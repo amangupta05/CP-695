{
  "nbformat": 4,
  "nbformat_minor": 0,
  "metadata": {
    "colab": {
      "provenance": []
    },
    "kernelspec": {
      "name": "python3",
      "display_name": "Python 3"
    },
    "language_info": {
      "name": "python"
    }
  },
  "cells": [
    {
      "cell_type": "code",
      "execution_count": 33,
      "metadata": {
        "id": "cZxshA_fFYf2"
      },
      "outputs": [],
      "source": [
        "import pandas as pd\n",
        "import numpy as np\n",
        "from sklearn.model_selection import train_test_split\n",
        "from sklearn.metrics import accuracy_score\n",
        "from sklearn.ensemble import RandomForestClassifier\n",
        "from sklearn.preprocessing import StandardScaler\n",
        "from keras.models import Sequential\n",
        "from keras.layers import Dense"
      ]
    },
    {
      "cell_type": "code",
      "source": [
        "\n",
        "# Step 1: Read in Titanic.csv and preprocess the data\n",
        "df = pd.read_csv('/content/sample_data/Titanic.csv')"
      ],
      "metadata": {
        "id": "AMQGuVA0FmCp"
      },
      "execution_count": 34,
      "outputs": []
    },
    {
      "cell_type": "code",
      "source": [
        "# Fill missing values with the mean of the same feature\n",
        "df['age'].fillna(df['age'].mean(), inplace=True)\n",
        "df['fare'].fillna(df['fare'].mean(), inplace=True)"
      ],
      "metadata": {
        "id": "cKYMbayoFmTi"
      },
      "execution_count": 35,
      "outputs": []
    },
    {
      "cell_type": "code",
      "source": [
        "# Convert categorical features to numerical using one-hot encoding\n",
        "df = pd.get_dummies(df, columns=['sex', 'embarked'], drop_first=True)\n",
        "class_mapping = {'1st': 1, '2nd': 2, '3rd': 3}\n",
        "df['pclass'] = df['pclass'].map(class_mapping)"
      ],
      "metadata": {
        "id": "HZJR0JZ1FnlO"
      },
      "execution_count": 36,
      "outputs": []
    },
    {
      "cell_type": "code",
      "source": [
        "# Split data into training and test sets\n",
        "train_df, test_df = train_test_split(df, test_size=0.2, random_state=42)"
      ],
      "metadata": {
        "id": "Zwt1123IFoCh"
      },
      "execution_count": 37,
      "outputs": []
    },
    {
      "cell_type": "code",
      "source": [
        "# Reset index for training and test sets\n",
        "train_df.reset_index(drop=True, inplace=True)\n",
        "test_df.reset_index(drop=True, inplace=True)\n"
      ],
      "metadata": {
        "id": "pQ2wbLagFoX1"
      },
      "execution_count": 38,
      "outputs": []
    },
    {
      "cell_type": "code",
      "source": [
        "# Step 2: Fit a neural network\n",
        "# Prepare input features and target variable for training set\n",
        "X_train = train_df[['pclass', 'sex_male', 'age', 'sibsp']].values\n",
        "y_train = train_df['survived'].values\n"
      ],
      "metadata": {
        "id": "joaTvxHwFop_"
      },
      "execution_count": 39,
      "outputs": []
    },
    {
      "cell_type": "code",
      "source": [
        "# Prepare input features and target variable for test set\n",
        "X_test = test_df[['pclass', 'sex_male', 'age', 'sibsp']].values\n",
        "y_test = test_df['survived'].values\n"
      ],
      "metadata": {
        "id": "ceVtRxwUGmbp"
      },
      "execution_count": 40,
      "outputs": []
    },
    {
      "cell_type": "code",
      "source": [
        "# Scale the input features using standard scaler\n",
        "scaler = StandardScaler()\n",
        "X_train = scaler.fit_transform(X_train)\n",
        "X_test = scaler.transform(X_test)\n"
      ],
      "metadata": {
        "id": "LMzM9VhBGmwX"
      },
      "execution_count": 41,
      "outputs": []
    },
    {
      "cell_type": "code",
      "source": [
        "# Build neural network model\n",
        "model = Sequential()\n",
        "model.add(Dense(units=16, activation='sigmoid', input_dim=4))\n",
        "model.add(Dense(units=8, activation='sigmoid'))\n",
        "model.add(Dense(units=1, activation='sigmoid'))\n"
      ],
      "metadata": {
        "id": "3FoXpVT1GnAO"
      },
      "execution_count": 42,
      "outputs": []
    },
    {
      "cell_type": "code",
      "source": [
        "# Compile the model\n",
        "model.compile(optimizer='adam', loss='binary_crossentropy', metrics=['accuracy'])"
      ],
      "metadata": {
        "id": "0U_aHzLcGnOt"
      },
      "execution_count": 43,
      "outputs": []
    },
    {
      "cell_type": "code",
      "source": [
        "\n",
        "# Train the model\n",
        "model.fit(X_train, y_train, epochs=100, batch_size=32, verbose=0)\n",
        "# Step 3: Evaluate the model\n",
        "# Predict on test set\n",
        "y_test_pred_probs = model.predict(X_test)\n",
        "\n",
        "# Convert probabilities to binary predictions using threshold of 0.5\n",
        "y_pred = (y_train_pred_probs >= 0.5).astype(int)\n",
        "y_pred = y_pred.flatten()\n",
        "y_pred = y_pred.flatten()"
      ],
      "metadata": {
        "colab": {
          "base_uri": "https://localhost:8080/"
        },
        "id": "ypB2moIgHzhH",
        "outputId": "47124a45-a3c8-4e7f-bd38-4e65d0258704"
      },
      "execution_count": 44,
      "outputs": [
        {
          "output_type": "stream",
          "name": "stdout",
          "text": [
            "9/9 [==============================] - 0s 2ms/step\n"
          ]
        }
      ]
    },
    {
      "cell_type": "code",
      "source": [
        "# Calculate out-of-sample accuracy\n",
        "accuracy = accuracy_score(y_test, y_pred)\n",
        "print(\"Out-of-sample Accuracy: {:.2f}%\".format(accuracy * 100))"
      ],
      "metadata": {
        "colab": {
          "base_uri": "https://localhost:8080/"
        },
        "id": "JDQJmFSxHz1i",
        "outputId": "a3910561-b0ee-4230-aa79-b9d5b86ac104"
      },
      "execution_count": 45,
      "outputs": [
        {
          "output_type": "stream",
          "name": "stdout",
          "text": [
            "Out-of-sample Accuracy: 74.81%\n"
          ]
        }
      ]
    },
    {
      "cell_type": "code",
      "source": [
        "# Step 4: Compare with Random Forest\n",
        "# Prepare input features for random forest\n",
        "X_train_rf = train_df[['pclass', 'sex_male', 'age', 'sibsp']].values\n",
        "X_test_rf = test_df[['pclass', 'sex_male', 'age', 'sibsp']].values"
      ],
      "metadata": {
        "id": "O0wmhNiBJFwT"
      },
      "execution_count": 46,
      "outputs": []
    },
    {
      "cell_type": "code",
      "source": [
        "# Train Random Forest\n",
        "rf = RandomForestClassifier(n_estimators=100, random_state=42)\n",
        "rf.fit(X_train_rf, y_train)\n"
      ],
      "metadata": {
        "colab": {
          "base_uri": "https://localhost:8080/",
          "height": 75
        },
        "id": "dHhAeBorJF2f",
        "outputId": "495da55d-85f5-49a4-ac95-836cbde18c7b"
      },
      "execution_count": 47,
      "outputs": [
        {
          "output_type": "execute_result",
          "data": {
            "text/plain": [
              "RandomForestClassifier(random_state=42)"
            ],
            "text/html": [
              "<style>#sk-container-id-2 {color: black;background-color: white;}#sk-container-id-2 pre{padding: 0;}#sk-container-id-2 div.sk-toggleable {background-color: white;}#sk-container-id-2 label.sk-toggleable__label {cursor: pointer;display: block;width: 100%;margin-bottom: 0;padding: 0.3em;box-sizing: border-box;text-align: center;}#sk-container-id-2 label.sk-toggleable__label-arrow:before {content: \"▸\";float: left;margin-right: 0.25em;color: #696969;}#sk-container-id-2 label.sk-toggleable__label-arrow:hover:before {color: black;}#sk-container-id-2 div.sk-estimator:hover label.sk-toggleable__label-arrow:before {color: black;}#sk-container-id-2 div.sk-toggleable__content {max-height: 0;max-width: 0;overflow: hidden;text-align: left;background-color: #f0f8ff;}#sk-container-id-2 div.sk-toggleable__content pre {margin: 0.2em;color: black;border-radius: 0.25em;background-color: #f0f8ff;}#sk-container-id-2 input.sk-toggleable__control:checked~div.sk-toggleable__content {max-height: 200px;max-width: 100%;overflow: auto;}#sk-container-id-2 input.sk-toggleable__control:checked~label.sk-toggleable__label-arrow:before {content: \"▾\";}#sk-container-id-2 div.sk-estimator input.sk-toggleable__control:checked~label.sk-toggleable__label {background-color: #d4ebff;}#sk-container-id-2 div.sk-label input.sk-toggleable__control:checked~label.sk-toggleable__label {background-color: #d4ebff;}#sk-container-id-2 input.sk-hidden--visually {border: 0;clip: rect(1px 1px 1px 1px);clip: rect(1px, 1px, 1px, 1px);height: 1px;margin: -1px;overflow: hidden;padding: 0;position: absolute;width: 1px;}#sk-container-id-2 div.sk-estimator {font-family: monospace;background-color: #f0f8ff;border: 1px dotted black;border-radius: 0.25em;box-sizing: border-box;margin-bottom: 0.5em;}#sk-container-id-2 div.sk-estimator:hover {background-color: #d4ebff;}#sk-container-id-2 div.sk-parallel-item::after {content: \"\";width: 100%;border-bottom: 1px solid gray;flex-grow: 1;}#sk-container-id-2 div.sk-label:hover label.sk-toggleable__label {background-color: #d4ebff;}#sk-container-id-2 div.sk-serial::before {content: \"\";position: absolute;border-left: 1px solid gray;box-sizing: border-box;top: 0;bottom: 0;left: 50%;z-index: 0;}#sk-container-id-2 div.sk-serial {display: flex;flex-direction: column;align-items: center;background-color: white;padding-right: 0.2em;padding-left: 0.2em;position: relative;}#sk-container-id-2 div.sk-item {position: relative;z-index: 1;}#sk-container-id-2 div.sk-parallel {display: flex;align-items: stretch;justify-content: center;background-color: white;position: relative;}#sk-container-id-2 div.sk-item::before, #sk-container-id-2 div.sk-parallel-item::before {content: \"\";position: absolute;border-left: 1px solid gray;box-sizing: border-box;top: 0;bottom: 0;left: 50%;z-index: -1;}#sk-container-id-2 div.sk-parallel-item {display: flex;flex-direction: column;z-index: 1;position: relative;background-color: white;}#sk-container-id-2 div.sk-parallel-item:first-child::after {align-self: flex-end;width: 50%;}#sk-container-id-2 div.sk-parallel-item:last-child::after {align-self: flex-start;width: 50%;}#sk-container-id-2 div.sk-parallel-item:only-child::after {width: 0;}#sk-container-id-2 div.sk-dashed-wrapped {border: 1px dashed gray;margin: 0 0.4em 0.5em 0.4em;box-sizing: border-box;padding-bottom: 0.4em;background-color: white;}#sk-container-id-2 div.sk-label label {font-family: monospace;font-weight: bold;display: inline-block;line-height: 1.2em;}#sk-container-id-2 div.sk-label-container {text-align: center;}#sk-container-id-2 div.sk-container {/* jupyter's `normalize.less` sets `[hidden] { display: none; }` but bootstrap.min.css set `[hidden] { display: none !important; }` so we also need the `!important` here to be able to override the default hidden behavior on the sphinx rendered scikit-learn.org. See: https://github.com/scikit-learn/scikit-learn/issues/21755 */display: inline-block !important;position: relative;}#sk-container-id-2 div.sk-text-repr-fallback {display: none;}</style><div id=\"sk-container-id-2\" class=\"sk-top-container\"><div class=\"sk-text-repr-fallback\"><pre>RandomForestClassifier(random_state=42)</pre><b>In a Jupyter environment, please rerun this cell to show the HTML representation or trust the notebook. <br />On GitHub, the HTML representation is unable to render, please try loading this page with nbviewer.org.</b></div><div class=\"sk-container\" hidden><div class=\"sk-item\"><div class=\"sk-estimator sk-toggleable\"><input class=\"sk-toggleable__control sk-hidden--visually\" id=\"sk-estimator-id-2\" type=\"checkbox\" checked><label for=\"sk-estimator-id-2\" class=\"sk-toggleable__label sk-toggleable__label-arrow\">RandomForestClassifier</label><div class=\"sk-toggleable__content\"><pre>RandomForestClassifier(random_state=42)</pre></div></div></div></div></div>"
            ]
          },
          "metadata": {},
          "execution_count": 47
        }
      ]
    },
    {
      "cell_type": "code",
      "source": [
        "# Predict on test set\n",
        "y_pred_rf = rf.predict(X_test_rf)\n",
        "\n",
        "# Calculate out-of-sample accuracy for Random Forest\n",
        "accuracy_rf = accuracy_score(y_test, y_pred_rf)\n",
        "print(\"Out-of-sample Accuracy (Random Forest): {:.2f}%\".format(accuracy_rf * 100))"
      ],
      "metadata": {
        "colab": {
          "base_uri": "https://localhost:8080/"
        },
        "id": "XWLq_uw_JF9m",
        "outputId": "72b7fae0-6aa2-4683-f16b-8959c26a1630"
      },
      "execution_count": 48,
      "outputs": [
        {
          "output_type": "stream",
          "name": "stdout",
          "text": [
            "Out-of-sample Accuracy (Random Forest): 75.57%\n"
          ]
        }
      ]
    },
    {
      "cell_type": "markdown",
      "source": [
        "bonus question\n"
      ],
      "metadata": {
        "id": "C1LO_G57LTjv"
      }
    },
    {
      "cell_type": "code",
      "source": [
        "\n",
        "\n",
        "\n",
        "\n",
        "# Step 2: Define the neural network with backpropagation\n",
        "def sigmoid(x):\n",
        "    return 1 / (1 + np.exp(-x))\n",
        "\n",
        "def sigmoid_derivative(x):\n",
        "    return sigmoid(x) * (1 - sigmoid(x))\n",
        "\n",
        "# Function to initialize weights\n",
        "def initialize_weights(input_size, hidden_sizes, output_size):\n",
        "    np.random.seed(0)\n",
        "    weights = []\n",
        "    layer_sizes = [input_size] + hidden_sizes + [output_size]\n",
        "    for i in range(len(layer_sizes)-1):\n",
        "        weight = np.random.uniform(low=-0.1, high=0.1, size=(layer_sizes[i], layer_sizes[i+1]))\n",
        "        weights.append(weight)\n",
        "    return weights\n",
        "\n",
        "# Function to forward propagate\n",
        "def forward_propagate(X, weights):\n",
        "    activations = [X]\n",
        "    for i in range(len(weights)):\n",
        "        activation = sigmoid(np.dot(activations[-1], weights[i]))\n",
        "        activations.append(activation)\n",
        "    return activations\n",
        "\n",
        "# Function to compute loss\n",
        "def compute_loss(y_true, y_pred):\n",
        "    return -np.mean(y_true * np.log(y_pred) + (1 - y_true) * np.log(1 - y_pred))\n",
        "\n",
        "# Function to backward propagate\n",
        "def backward_propagate(X, y_true, activations, weights):\n",
        "    gradients = []\n",
        "    delta = activations[-1] - y_true\n",
        "    gradients.append(np.dot(activations[-2].T, delta))\n",
        "    for i in range(len(weights)-1, 0, -1):\n",
        "        delta = np.dot(delta, weights[i].T) * sigmoid_derivative(activations[i])\n",
        "        gradients.append(np.dot(activations[i-1].T, delta))\n",
        "    return gradients[::-1]\n",
        "\n",
        "# Function to update weights\n",
        "def update_weights(weights, gradients, learning_rate):\n",
        "    for i in range(len(weights)):\n",
        "        weights[i] -= learning_rate * gradients[i]\n",
        "    return weights\n",
        "\n",
        "# Set hyperparameters\n",
        "input_size = X_train_scaled.shape[1]\n",
        "hidden_sizes = [16, 8]  # Example hidden layer sizes\n",
        "output_size = 1\n",
        "learning_rate = 0.01\n",
        "num_iterations = 500"
      ],
      "metadata": {
        "id": "PqqcZbh0KT0u"
      },
      "execution_count": 64,
      "outputs": []
    },
    {
      "cell_type": "code",
      "source": [
        "# Initialize weights\n",
        "weights = initialize_weights(input_size, hidden_sizes, output_size)\n",
        "\n",
        "# Training loop\n",
        "for i in range(num_iterations):\n",
        "    y_train_array = y_train.values.reshape(-1, 1)\n",
        "\n",
        "    # Perform forward propagation\n",
        "    activations, caches = forward_propagate(X_train_scaled, weights)\n",
        "\n",
        "    # Compute loss\n",
        "    y_pred = activations[-1]\n",
        "    loss = compute_loss(y_train_array, y_pred)\n",
        "\n",
        "    # Backward propagate\n",
        "    grads = backward_propagation(y_train_array, activations, caches)\n",
        "\n",
        "    # Update weights\n",
        "    weights = update_weights(weights, gradients, learning_rate)\n",
        "\n",
        "    # Print loss for tracking progress\n",
        "    if i % 100 == 0:\n",
        "        print(f'Iteration: {i}, Loss: {loss:.4f}')\n",
        "\n",
        "# Step 3: Evaluate the model\n",
        "# Forward propagate on test set\n",
        "activations_test = forward_propagate(X_test_scaled, weights)\n",
        "y_pred_test = activations_test[-1]\n",
        "y_pred_test = np.round(y_pred_test)  # Convert probabilities to binary predictions\n",
        "\n",
        "# Calculate accuracy on test set\n",
        "accuracy = accuracy_score(y_test, y_pred_test)\n",
        "print(f'Accuracy on test set: {accuracy:.4f}')\n"
      ],
      "metadata": {
        "colab": {
          "base_uri": "https://localhost:8080/",
          "height": 240
        },
        "id": "cfz3hphkNkBe",
        "outputId": "4fe5a7f8-c571-4622-9bd7-870e226a3317"
      },
      "execution_count": 69,
      "outputs": [
        {
          "output_type": "error",
          "ename": "ValueError",
          "evalue": "ignored",
          "traceback": [
            "\u001b[0;31m---------------------------------------------------------------------------\u001b[0m",
            "\u001b[0;31mValueError\u001b[0m                                Traceback (most recent call last)",
            "\u001b[0;32m<ipython-input-69-7067d6ba8e10>\u001b[0m in \u001b[0;36m<cell line: 5>\u001b[0;34m()\u001b[0m\n\u001b[1;32m      7\u001b[0m \u001b[0;34m\u001b[0m\u001b[0m\n\u001b[1;32m      8\u001b[0m     \u001b[0;31m# Perform forward propagation\u001b[0m\u001b[0;34m\u001b[0m\u001b[0;34m\u001b[0m\u001b[0m\n\u001b[0;32m----> 9\u001b[0;31m     \u001b[0mactivations\u001b[0m\u001b[0;34m,\u001b[0m \u001b[0mcaches\u001b[0m \u001b[0;34m=\u001b[0m \u001b[0mforward_propagate\u001b[0m\u001b[0;34m(\u001b[0m\u001b[0mX_train_scaled\u001b[0m\u001b[0;34m,\u001b[0m \u001b[0mweights\u001b[0m\u001b[0;34m)\u001b[0m\u001b[0;34m\u001b[0m\u001b[0;34m\u001b[0m\u001b[0m\n\u001b[0m\u001b[1;32m     10\u001b[0m \u001b[0;34m\u001b[0m\u001b[0m\n\u001b[1;32m     11\u001b[0m     \u001b[0;31m# Compute loss\u001b[0m\u001b[0;34m\u001b[0m\u001b[0;34m\u001b[0m\u001b[0m\n",
            "\u001b[0;31mValueError\u001b[0m: too many values to unpack (expected 2)"
          ]
        }
      ]
    },
    {
      "cell_type": "markdown",
      "source": [],
      "metadata": {
        "id": "3MQ3MS6YFhtW"
      }
    }
  ]
}