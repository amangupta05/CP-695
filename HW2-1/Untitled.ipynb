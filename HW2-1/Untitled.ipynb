{
 "cells": [
  {
   "cell_type": "code",
   "execution_count": 8,
   "id": "6e2f41ea",
   "metadata": {},
   "outputs": [
    {
     "data": {
      "image/png": "[encoded data removed]",
      "text/plain": [
       "<Figure size 640x480 with 1 Axes>"
      ]
     },
     "metadata": {},
     "output_type": "display_data"
    }
   ],
   "source": []
  },
  {
   "cell_type": "code",
   "execution_count": 12,
   "id": "26b3c8fb",
   "metadata": {},
   "outputs": [
    {
     "name": "stdout",
     "output_type": "stream",
     "text": [
      "Normal equation method\n",
      "w0 = -3.7772803447126604\n",
      "w1 = 1.1699588897970419\n",
      "Batch Gradient Descent method\n",
      "w0 = nan\n",
      "w1 = nan\n"
     ]
    },
    {
     "name": "stderr",
     "output_type": "stream",
     "text": [
      "/var/folders/6h/p8nwbyjj3sv4vz65r6gg_vdm0000gn/T/ipykernel_49701/298017196.py:37: RuntimeWarning: overflow encountered in square\n",
      "  J = 1/(2*m) * np.sum((x.dot(w) - y)**2)\n",
      "/Users/amangupta/opt/anaconda3/lib/python3.9/site-packages/numpy/core/fromnumeric.py:86: RuntimeWarning: overflow encountered in reduce\n",
      "  return ufunc.reduce(obj, axis, dtype, out, **passkwargs)\n",
      "/var/folders/6h/p8nwbyjj3sv4vz65r6gg_vdm0000gn/T/ipykernel_49701/298017196.py:48: RuntimeWarning: invalid value encountered in subtract\n",
      "  w = w - alpha * gradients\n",
      "/var/folders/6h/p8nwbyjj3sv4vz65r6gg_vdm0000gn/T/ipykernel_49701/298017196.py:80: RuntimeWarning: invalid value encountered in subtract\n",
      "  w = w - alpha * gradients\n"
     ]
    }
   ],
   "source": [
    "import numpy as np\n",
    "import matplotlib.pyplot as plt\n",
    "from sklearn.model_selection import train_test_split\n",
    "\n",
    "# Load data from file\n",
    "data = np.loadtxt('data2.txt', delimiter=',')\n",
    "\n",
    "# Extract x and y values\n",
    "x = data[:, 0]\n",
    "y = data[:, 1]\n",
    "\n",
    "# Split data into training and testing sets\n",
    "x_train, x_test, y_train, y_test = train_test_split(x, y, test_size=0.2, random_state=0)\n",
    "\n",
    "# Add a column of ones to x_train and x_test for the intercept term\n",
    "x_train = np.c_[np.ones((len(x_train), 1)), x_train.reshape(-1, 1)]\n",
    "x_test = np.c_[np.ones((len(x_test), 1)), x_test.reshape(-1, 1)]\n",
    "\n",
    "# 1. Normal equation method\n",
    "# Compute the coefficients using the normal equation\n",
    "w = np.linalg.inv(x_train.T.dot(x_train)).dot(x_train.T).dot(y_train)\n",
    "\n",
    "# Print the coefficients\n",
    "print('Normal equation method')\n",
    "print('w0 =', w[0])\n",
    "print('w1 =', w[1])\n",
    "\n",
    "# 2. Batch Gradient Descent method\n",
    "# Initialize the learning rate, number of iterations, and initial values of w0 and w1\n",
    "alpha = 0.1\n",
    "iterations = 1000\n",
    "w = np.zeros(2)\n",
    "\n",
    "# Define the cost function\n",
    "def cost_function(x, y, w):\n",
    "    m = len(y)\n",
    "    J = 1/(2*m) * np.sum((x.dot(w) - y)**2)\n",
    "    return J\n",
    "\n",
    "# Initialize lists to store MSE and iteration for batch gradient descent\n",
    "mse_train_bgd = []\n",
    "mse_test_bgd = []\n",
    "iteration_bgd = []\n",
    "\n",
    "# Perform Batch Gradient Descent\n",
    "for i in range(iterations):\n",
    "    gradients = 1/len(y_train) * x_train.T.dot(x_train.dot(w) - y_train)\n",
    "    w = w - alpha * gradients\n",
    "    mse_train_bgd.append(cost_function(x_train, y_train, w))\n",
    "    mse_test_bgd.append(cost_function(x_test, y_test, w))\n",
    "    iteration_bgd.append(i)\n",
    "\n",
    "    # Check for termination condition\n",
    "    if mse_test_bgd[-1] < 1.0:\n",
    "        break\n",
    "\n",
    "# Print the coefficients\n",
    "print('Batch Gradient Descent method')\n",
    "print('w0 =', w[0])\n",
    "print('w1 =', w[1])\n",
    "\n",
    "# 3. Stochastic Gradient Descent method\n",
    "# Initialize the learning rate, number of iterations, and initial values of w0 and w1\n",
    "alpha = 0.1\n",
    "iterations = 1000\n",
    "w = np.zeros(2)\n",
    "\n",
    "# Initialize lists to store MSE and iteration for stochastic gradient descent\n",
    "mse_train_sgd = []\n",
    "mse_test_sgd = []\n",
    "iteration_sgd = []\n",
    "\n",
    "# Perform Stochastic Gradient Descent\n",
    "for i in range(iterations):\n",
    "    for j in range(len(y_train)):\n",
    "        random_index = np.random.randint(len(y_train))\n",
    "        xi = x_train[random_index:random_index+1]\n",
    "        yi = y_train[random_index:random_index+1]\n",
    "        gradients = xi.T.dot(xi.dot(w) - yi)\n",
    "        w = w - alpha * gradients\n",
    "\n",
    "    mse_train_sgd.append(cost_function(x_train, y_train, w))\n",
    "    mse_test_sgd.append(cost_function(x_test, y_test, w))\n",
    "    iteration_sgd.append(i)\n",
    "\n",
    "    # Check for termination condition\n",
    "    if mse_test_sgd[-1] < 1.0:\n",
    "       break"
   ]
  }
 ],
 "metadata": {
  "kernelspec": {
   "display_name": "Python 3 (ipykernel)",
   "language": "python",
   "name": "python3"
  },
  "language_info": {
   "codemirror_mode": {
    "name": "ipython",
    "version": 3
   },
   "file_extension": ".py",
   "mimetype": "text/x-python",
   "name": "python",
   "nbconvert_exporter": "python",
   "pygments_lexer": "ipython3",
   "version": "3.9.13"
  }
 },
 "nbformat": 4,
 "nbformat_minor": 5
}
