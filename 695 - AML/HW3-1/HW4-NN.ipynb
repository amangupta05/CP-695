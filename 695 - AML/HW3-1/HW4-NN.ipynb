{
 "cells": [
  {
   "cell_type": "code",
   "execution_count": 87,
   "id": "52dfad51",
   "metadata": {},
   "outputs": [],
   "source": [
    "import matplotlib.pyplot as plt"
   ]
  },
  {
   "cell_type": "code",
   "execution_count": 25,
   "id": "72c9e07f",
   "metadata": {},
   "outputs": [],
   "source": [
    "import pandas as pd\n",
    "from sklearn.model_selection import train_test_split"
   ]
  },
  {
   "cell_type": "code",
   "execution_count": 41,
   "id": "31248f27",
   "metadata": {},
   "outputs": [],
   "source": [
    "import numpy as np\n",
    "from keras.wrappers.scikit_learn import KerasClassifier\n",
    "from keras.models import Sequential\n",
    "from keras.layers import Dense, Activation, Dropout\n",
    "\n",
    "from numpy.random import seed\n",
    "import tensorflow as tf"
   ]
  },
  {
   "cell_type": "code",
   "execution_count": 132,
   "id": "ea697cda",
   "metadata": {},
   "outputs": [],
   "source": [
    "main_df=pd.read_csv('titanic.csv')"
   ]
  },
  {
   "cell_type": "code",
   "execution_count": 133,
   "id": "172f0243",
   "metadata": {},
   "outputs": [],
   "source": [
    "titanic_df_trunc=pd.DataFrame()"
   ]
  },
  {
   "cell_type": "code",
   "execution_count": 134,
   "id": "372c5f4b",
   "metadata": {},
   "outputs": [],
   "source": [
    "titanic_df_trunc[['pclass','sex','age','sibsp','survived']]=main_df[['pclass','sex','age','sibsp','survived']]"
   ]
  },
  {
   "cell_type": "code",
   "execution_count": 135,
   "id": "90005b6d",
   "metadata": {},
   "outputs": [],
   "source": [
    "titanic_df_trunc['sex'] = titanic_df_trunc['sex'].map({'male':'0','female':'1'}).astype('float32')\n",
    "# titanic_df_trunc['survived']=titanic_df_trunc['survived'].apply(str)\n",
    "titanic_df_trunc['pclass'] = titanic_df_trunc['pclass'].map({'1st':'1','2nd':'2','3rd':'3'}).astype('float32')\n",
    "titanic_df_trunc['age'] = titanic_df_trunc['age'].fillna((titanic_df_trunc['age'].mean()))\n",
    "# titanic_df_trunc['age']=titanic_df_trunc['age'].apply(str)\n",
    "titanic_df_trunc['sibsp']=titanic_df_trunc['sibsp'].astype('float32')"
   ]
  },
  {
   "cell_type": "code",
   "execution_count": 136,
   "id": "c431e124",
   "metadata": {},
   "outputs": [],
   "source": [
    "X=pd.DataFrame()\n",
    "X[['pclass','sex','age','sibsp']]=titanic_df_trunc[['pclass','sex','age','sibsp']]\n",
    "y=titanic_df_trunc['survived']"
   ]
  },
  {
   "cell_type": "code",
   "execution_count": 137,
   "id": "afc09ea4",
   "metadata": {},
   "outputs": [],
   "source": [
    "X_train, X_test, y_train, y_test=train_test_split(X,y,train_size=0.8)"
   ]
  },
  {
   "cell_type": "code",
   "execution_count": 138,
   "id": "a2ea8642",
   "metadata": {},
   "outputs": [],
   "source": [
    "X_train = titanic_df_trunc[pd.notnull(titanic_df_trunc['survived'])].drop(['survived'], axis=1)\n",
    "y_train = titanic_df_trunc[pd.notnull(titanic_df_trunc['survived'])]['survived']"
   ]
  },
  {
   "cell_type": "code",
   "execution_count": 139,
   "id": "716dd364",
   "metadata": {},
   "outputs": [
    {
     "data": {
      "text/plain": [
       "pclass    float32\n",
       "sex       float32\n",
       "age       float64\n",
       "sibsp     float32\n",
       "dtype: object"
      ]
     },
     "execution_count": 139,
     "metadata": {},
     "output_type": "execute_result"
    }
   ],
   "source": [
    "X_train.dtypes"
   ]
  },
  {
   "cell_type": "code",
   "execution_count": null,
   "id": "d3826777",
   "metadata": {},
   "outputs": [],
   "source": []
  },
  {
   "cell_type": "code",
   "execution_count": 140,
   "id": "7ead2bca",
   "metadata": {},
   "outputs": [],
   "source": [
    "def create_model(lyrs=[2], act='sigmoid', opt='Adam', dr=0.0):\n",
    "    \n",
    "    # set random seed for reproducibility\n",
    "    seed(42)\n",
    "    tensorflow.random.set_seed(42)\n",
    "    \n",
    "    model = Sequential()\n",
    "    \n",
    "    # create first hidden layer\n",
    "    model.add(Dense(lyrs[0], input_dim=X_train.shape[1], activation=act))\n",
    "    \n",
    "    # create additional hidden layers\n",
    "    for i in range(1,len(lyrs)):\n",
    "        model.add(Dense(lyrs[i], activation=act))\n",
    "    \n",
    "    # add dropout, default is none\n",
    "    model.add(Dropout(dr))\n",
    "    \n",
    "    # create output layer\n",
    "    model.add(Dense(1, activation='sigmoid'))  # output layer\n",
    "    \n",
    "    model.compile(loss='binary_crossentropy', optimizer=opt, metrics=['accuracy'])\n",
    "    \n",
    "    return model"
   ]
  },
  {
   "cell_type": "code",
   "execution_count": 141,
   "id": "c5c3539f",
   "metadata": {},
   "outputs": [
    {
     "name": "stdout",
     "output_type": "stream",
     "text": [
      "Model: \"sequential_12\"\n",
      "_________________________________________________________________\n",
      " Layer (type)                Output Shape              Param #   \n",
      "=================================================================\n",
      " dense_24 (Dense)            (None, 2)                 10        \n",
      "                                                                 \n",
      " dropout_12 (Dropout)        (None, 2)                 0         \n",
      "                                                                 \n",
      " dense_25 (Dense)            (None, 1)                 3         \n",
      "                                                                 \n",
      "=================================================================\n",
      "Total params: 13\n",
      "Trainable params: 13\n",
      "Non-trainable params: 0\n",
      "_________________________________________________________________\n",
      "None\n"
     ]
    }
   ],
   "source": [
    "model = create_model()\n",
    "print(model.summary())"
   ]
  },
  {
   "cell_type": "code",
   "execution_count": 142,
   "id": "fad04aaa",
   "metadata": {},
   "outputs": [
    {
     "name": "stdout",
     "output_type": "stream",
     "text": [
      "\n",
      "val_acc: 76.67%\n"
     ]
    }
   ],
   "source": [
    "# train model on full train set, with 80/20 CV split\n",
    "training = model.fit(X_train, y_train, epochs=100, batch_size=32, validation_split=0.2, verbose=0)\n",
    "val_acc = np.mean(training.history['val_accuracy'])\n",
    "print(\"\\n%s: %.2f%%\" % ('val_acc', val_acc*100))"
   ]
  },
  {
   "cell_type": "code",
   "execution_count": null,
   "id": "6c8a9fa1",
   "metadata": {},
   "outputs": [],
   "source": []
  },
  {
   "cell_type": "code",
   "execution_count": 143,
   "id": "b49a2a4b",
   "metadata": {},
   "outputs": [
    {
     "data": {
      "image/png": "[encoded data removed]",
      "text/plain": [
       "<Figure size 640x480 with 1 Axes>"
      ]
     },
     "metadata": {},
     "output_type": "display_data"
    }
   ],
   "source": [
    "# summarize history for accuracy\n",
    "plt.plot(training.history['accuracy'])\n",
    "plt.plot(training.history['val_accuracy'])\n",
    "plt.title('model accuracy')\n",
    "plt.ylabel('accuracy')\n",
    "plt.xlabel('epoch')\n",
    "plt.legend(['train', 'validation'], loc='upper left')\n",
    "plt.show()\n"
   ]
  },
  {
   "cell_type": "code",
   "execution_count": null,
   "id": "c9b0957f",
   "metadata": {},
   "outputs": [],
   "source": []
  },
  {
   "cell_type": "code",
   "execution_count": 146,
   "id": "4b751e1a",
   "metadata": {},
   "outputs": [
    {
     "name": "stdout",
     "output_type": "stream",
     "text": [
      "9/9 [==============================] - 0s 542us/step\n"
     ]
    }
   ],
   "source": [
    "# calculate predictions\n",
    "\n",
    "X_test['Survived_new'] = model.predict(X_test)\n",
    "X_test['Survived_new'] = X_test['Survived_new'].apply(lambda x: round(x,0)).astype('int')\n"
   ]
  },
  {
   "cell_type": "code",
   "execution_count": 147,
   "id": "43eee83b",
   "metadata": {},
   "outputs": [
    {
     "data": {
      "text/plain": [
       "1148    0\n",
       "1049    1\n",
       "982     0\n",
       "808     0\n",
       "1195    0\n",
       "       ..\n",
       "572     1\n",
       "140     1\n",
       "1182    1\n",
       "312     0\n",
       "199     1\n",
       "Name: survived, Length: 262, dtype: int64"
      ]
     },
     "execution_count": 147,
     "metadata": {},
     "output_type": "execute_result"
    }
   ],
   "source": [
    "y_test"
   ]
  },
  {
   "cell_type": "code",
   "execution_count": 148,
   "id": "0de9591a",
   "metadata": {},
   "outputs": [],
   "source": [
    "from sklearn.metrics import classification_report"
   ]
  },
  {
   "cell_type": "code",
   "execution_count": 149,
   "id": "27a8fa24",
   "metadata": {},
   "outputs": [
    {
     "name": "stdout",
     "output_type": "stream",
     "text": [
      "              precision    recall  f1-score   support\n",
      "\n",
      "           0       0.74      0.88      0.80       144\n",
      "           1       0.80      0.63      0.70       118\n",
      "\n",
      "    accuracy                           0.76       262\n",
      "   macro avg       0.77      0.75      0.75       262\n",
      "weighted avg       0.77      0.76      0.76       262\n",
      "\n"
     ]
    }
   ],
   "source": [
    "print(classification_report(y_test, X_test['Survived_new']))"
   ]
  },
  {
   "cell_type": "code",
   "execution_count": 150,
   "id": "c617deef",
   "metadata": {},
   "outputs": [],
   "source": [
    "#diff number of layers"
   ]
  },
  {
   "cell_type": "code",
   "execution_count": 159,
   "id": "96747a51",
   "metadata": {},
   "outputs": [],
   "source": [
    "X_train, X_test, y_train, y_test=train_test_split(X,y,train_size=0.8)\n",
    "X_train = titanic_df_trunc[pd.notnull(titanic_df_trunc['survived'])].drop(['survived'], axis=1)\n",
    "y_train = titanic_df_trunc[pd.notnull(titanic_df_trunc['survived'])]['survived']"
   ]
  },
  {
   "cell_type": "code",
   "execution_count": 160,
   "id": "dcaf0787",
   "metadata": {},
   "outputs": [],
   "source": [
    "def create_model(lyrs=[6], act='sigmoid', opt='Adam', dr=0.0):\n",
    "    \n",
    "    # set random seed for reproducibility\n",
    "    seed(42)\n",
    "    tensorflow.random.set_seed(42)\n",
    "    \n",
    "    model = Sequential()\n",
    "    \n",
    "    # create first hidden layer\n",
    "    model.add(Dense(lyrs[0], input_dim=X_train.shape[1], activation=act))\n",
    "    \n",
    "    # create additional hidden layers\n",
    "    for i in range(1,len(lyrs)):\n",
    "        model.add(Dense(lyrs[i], activation=act))\n",
    "    \n",
    "    # add dropout, default is none\n",
    "    model.add(Dropout(dr))\n",
    "    \n",
    "    # create output layer\n",
    "    model.add(Dense(1, activation='sigmoid'))  # output layer\n",
    "    \n",
    "    model.compile(loss='binary_crossentropy', optimizer=opt, metrics=['accuracy'])\n",
    "    \n",
    "    return model"
   ]
  },
  {
   "cell_type": "code",
   "execution_count": 161,
   "id": "3e290d80",
   "metadata": {},
   "outputs": [
    {
     "name": "stdout",
     "output_type": "stream",
     "text": [
      "Model: \"sequential_14\"\n",
      "_________________________________________________________________\n",
      " Layer (type)                Output Shape              Param #   \n",
      "=================================================================\n",
      " dense_28 (Dense)            (None, 6)                 30        \n",
      "                                                                 \n",
      " dropout_14 (Dropout)        (None, 6)                 0         \n",
      "                                                                 \n",
      " dense_29 (Dense)            (None, 1)                 7         \n",
      "                                                                 \n",
      "=================================================================\n",
      "Total params: 37\n",
      "Trainable params: 37\n",
      "Non-trainable params: 0\n",
      "_________________________________________________________________\n",
      "None\n"
     ]
    }
   ],
   "source": [
    "model = create_model()\n",
    "print(model.summary())"
   ]
  },
  {
   "cell_type": "code",
   "execution_count": 162,
   "id": "d271c1ad",
   "metadata": {},
   "outputs": [
    {
     "name": "stdout",
     "output_type": "stream",
     "text": [
      "\n",
      "val_acc: 74.47%\n"
     ]
    }
   ],
   "source": [
    "# train model on full train set, with 80/20 CV split\n",
    "training = model.fit(X_train, y_train, epochs=100, batch_size=32, validation_split=0.2, verbose=0)\n",
    "val_acc = np.mean(training.history['val_accuracy'])\n",
    "print(\"\\n%s: %.2f%%\" % ('val_acc', val_acc*100))"
   ]
  },
  {
   "cell_type": "code",
   "execution_count": 163,
   "id": "6e258e32",
   "metadata": {},
   "outputs": [
    {
     "data": {
      "image/png": "[encoded data removed]",
      "text/plain": [
       "<Figure size 640x480 with 1 Axes>"
      ]
     },
     "metadata": {},
     "output_type": "display_data"
    }
   ],
   "source": [
    "# summarize history for accuracy\n",
    "plt.plot(training.history['accuracy'])\n",
    "plt.plot(training.history['val_accuracy'])\n",
    "plt.title('model accuracy')\n",
    "plt.ylabel('accuracy')\n",
    "plt.xlabel('epoch')\n",
    "plt.legend(['train', 'validation'], loc='upper left')\n",
    "plt.show()\n"
   ]
  },
  {
   "cell_type": "code",
   "execution_count": 164,
   "id": "340ef858",
   "metadata": {},
   "outputs": [
    {
     "name": "stdout",
     "output_type": "stream",
     "text": [
      "9/9 [==============================] - 0s 383us/step\n"
     ]
    }
   ],
   "source": [
    "# calculate predictions\n",
    "# calculate predictions\n",
    "X_test['Survived_new'] = model.predict(X_test)\n",
    "X_test['Survived_new'] = X_test['Survived_new'].apply(lambda x: round(x,0)).astype('int')\n"
   ]
  },
  {
   "cell_type": "code",
   "execution_count": 166,
   "id": "d321a1e9",
   "metadata": {},
   "outputs": [
    {
     "name": "stdout",
     "output_type": "stream",
     "text": [
      "              precision    recall  f1-score   support\n",
      "\n",
      "           0       0.76      0.86      0.81       144\n",
      "           1       0.80      0.67      0.73       118\n",
      "\n",
      "    accuracy                           0.77       262\n",
      "   macro avg       0.78      0.77      0.77       262\n",
      "weighted avg       0.78      0.77      0.77       262\n",
      "\n"
     ]
    }
   ],
   "source": [
    "print(classification_report(y_test, X_test['Survived_new']))"
   ]
  },
  {
   "cell_type": "code",
   "execution_count": null,
   "id": "8ded25aa",
   "metadata": {},
   "outputs": [],
   "source": []
  },
  {
   "cell_type": "markdown",
   "id": "4cd5d4df",
   "metadata": {},
   "source": [
    "### F-1 Score has slightly improved on increasing the number of hidden layers in the NN"
   ]
  },
  {
   "cell_type": "code",
   "execution_count": null,
   "id": "29ffa6d9",
   "metadata": {},
   "outputs": [],
   "source": []
  }
 ],
 "metadata": {
  "kernelspec": {
   "display_name": "Python 3 (ipykernel)",
   "language": "python",
   "name": "python3"
  },
  "language_info": {
   "codemirror_mode": {
    "name": "ipython",
    "version": 3
   },
   "file_extension": ".py",
   "mimetype": "text/x-python",
   "name": "python",
   "nbconvert_exporter": "python",
   "pygments_lexer": "ipython3",
   "version": "3.9.6"
  }
 },
 "nbformat": 4,
 "nbformat_minor": 5
}
