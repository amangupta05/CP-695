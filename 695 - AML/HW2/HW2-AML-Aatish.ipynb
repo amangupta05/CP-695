{
 "cells": [
  {
   "cell_type": "markdown",
   "id": "d634b6ba",
   "metadata": {},
   "source": [
    "3.[44 points] Write a program to find the coefficients for a linear regression model for the dataset provided (data2.txt). Assume a linear model: y = w0 + w1*x. You need to\n",
    "\n",
    "1)\tPlot the data (i.e., x-axis for the 1st column, y-axis for the 2nd column), \n",
    "and use Python to implement the following methods to find the coefficients: \n",
    "\n",
    "2)\tNormal equation, and\n",
    "\n",
    "3)\tGradient Descent using batch AND stochastic modes respectively:\n",
    "\n",
    "a)\tSplit dataset into 80% for training and 20% for testing. \n",
    "\n",
    "b)\tPlot MSE vs. iteration of each mode for both training set and testing set; compare batch and stochastic modes (with discussion) in terms of accuracy (of testing set) and speed of convergence (You need to determine an appropriate termination condition, e.g., when cost function is less than a threshold, and/or after a given number of iterations.) \n",
    "\n",
    "c)\tPlot MSE of the testing set vs. learning rate (using 0.001, 0.002, 0.003, 0.004, 0.005, 0.006, 0.007, 0.008, \n",
    "0.009, 0.01) and determine the best learning rate. \n",
    "\n",
    "Please implement the algorithms by yourself and do NOT use the fit() function of the library. \n"
   ]
  },
  {
   "cell_type": "code",
   "execution_count": 1,
   "id": "108f274b",
   "metadata": {},
   "outputs": [],
   "source": [
    "import pandas as pd\n",
    "import numpy as np\n",
    "import matplotlib.pyplot as plt\n",
    "from numpy.linalg import inv"
   ]
  },
  {
   "cell_type": "code",
   "execution_count": 2,
   "id": "1837cbc8",
   "metadata": {},
   "outputs": [],
   "source": [
    "data2=pd.read_csv('data2.txt')"
   ]
  },
  {
   "cell_type": "code",
   "execution_count": 3,
   "id": "5dfcfe3b",
   "metadata": {},
   "outputs": [],
   "source": [
    "data2=data2.sort_values('X').reset_index(drop=True)"
   ]
  },
  {
   "cell_type": "code",
   "execution_count": null,
   "id": "ade18d76",
   "metadata": {},
   "outputs": [],
   "source": []
  },
  {
   "cell_type": "code",
   "execution_count": 4,
   "id": "036a93cc",
   "metadata": {},
   "outputs": [],
   "source": [
    "x=data2['X'].values\n",
    "y=data2['Y'].values"
   ]
  },
  {
   "cell_type": "code",
   "execution_count": null,
   "id": "78a112a3",
   "metadata": {},
   "outputs": [],
   "source": []
  },
  {
   "cell_type": "code",
   "execution_count": 5,
   "id": "8fd42f68",
   "metadata": {},
   "outputs": [
    {
     "name": "stdout",
     "output_type": "stream",
     "text": [
      "[ 2.10147995  2.11293307  2.13452698  2.14025354  2.1531383   2.19787707\n",
      "  2.22460102  2.28329828  2.29415488  2.37050903  2.43373982  2.43648379\n",
      "  2.52202431  2.55483273  2.59062374  2.65409313  2.66518834  2.69024205\n",
      "  2.6989512   2.71553436  2.74333205  2.79272364  2.83257096  2.833764\n",
      "  2.91369725  2.91727635  2.93934748  2.94507404  2.99243747  3.02548451\n",
      "  3.09515767  3.10816174  3.13333475  3.26480705  3.2698178   3.39377399\n",
      "  3.48802365  3.58955081  3.65146926  3.65946258  3.68403908  3.68678305\n",
      "  3.69060076  3.69835548  3.77494824  3.84247394  3.87790704  3.91608412\n",
      "  3.96559502  4.31527318  4.45927234  4.53992141  4.56652606  4.71577457\n",
      "  4.72496093  4.85452438  4.96118159  5.02381586  5.09802255  5.09993141\n",
      "  5.17497322  5.21493985  5.43934948  5.56903223  5.7629002   5.90033768\n",
      "  5.99852435  6.0005525   6.10530086  6.13572322  6.26552528  6.26719552\n",
      "  6.33818102  6.63321825  7.05650658  7.13763287  7.21160096  7.38268198\n",
      "  7.75860688  8.19680814  8.3161115   8.36144678  9.17628876 10.06271276\n",
      " 10.07225703 11.40845471 11.41799898 11.82363042 12.08371175 13.00234766\n",
      " 13.88996469 18.70624151 18.72294398 20.28701109 20.37171648 21.49078204\n",
      " 22.59314512]\n",
      "[[-3.89578088]\n",
      " [ 1.19303364]]\n"
     ]
    }
   ],
   "source": [
    "tra = np.vstack([np.ones(len(x)),x]).T\n",
    "y_new = y[:,np.newaxis]\n",
    "inter_val=np.matmul(tra.T,tra)\n",
    "val_theta = np.matmul((np.matmul(np.linalg.inv(inter_val),tra.T)),y_new)\n",
    "y_preds = val_theta[0] + val_theta[1]*x\n",
    "print(y_preds)\n",
    "print(val_theta)"
   ]
  },
  {
   "cell_type": "markdown",
   "id": "de2f40a4",
   "metadata": {},
   "source": [
    "## 1"
   ]
  },
  {
   "cell_type": "code",
   "execution_count": 28,
   "id": "a9e8fb5f",
   "metadata": {
    "scrolled": true
   },
   "outputs": [
    {
     "data": {
      "image/png": "[encoded data removed]",
      "text/plain": [
       "<Figure size 432x288 with 1 Axes>"
      ]
     },
     "metadata": {
      "needs_background": "light"
     },
     "output_type": "display_data"
    }
   ],
   "source": [
    "plt.scatter(x,y)\n",
    "plt.show()"
   ]
  },
  {
   "cell_type": "markdown",
   "id": "37abd7a0",
   "metadata": {},
   "source": [
    "## 2"
   ]
  },
  {
   "cell_type": "markdown",
   "id": "24555225",
   "metadata": {},
   "source": [
    "## Normal Equation"
   ]
  },
  {
   "cell_type": "code",
   "execution_count": 6,
   "id": "b9c87463",
   "metadata": {},
   "outputs": [],
   "source": [
    "import sklearn\n",
    "from sklearn.model_selection import train_test_split"
   ]
  },
  {
   "cell_type": "markdown",
   "id": "347dbecd",
   "metadata": {},
   "source": [
    "### 3b - Splitting dataset here - x_test and y_test is used for calculating MSE below"
   ]
  },
  {
   "cell_type": "code",
   "execution_count": 7,
   "id": "a8d6a5e7",
   "metadata": {},
   "outputs": [],
   "source": [
    "X_train, X_test, y_train, y_test=train_test_split(data2['X'],data2['Y'], test_size=20, random_state=90)"
   ]
  },
  {
   "cell_type": "code",
   "execution_count": 8,
   "id": "50716e80",
   "metadata": {},
   "outputs": [
    {
     "data": {
      "text/plain": [
       "(77,)"
      ]
     },
     "execution_count": 8,
     "metadata": {},
     "output_type": "execute_result"
    }
   ],
   "source": [
    "y_train.shape"
   ]
  },
  {
   "cell_type": "code",
   "execution_count": 29,
   "id": "72bdaae3",
   "metadata": {},
   "outputs": [
    {
     "data": {
      "text/plain": [
       "array([-4.21930646, -1.78594533])"
      ]
     },
     "execution_count": 29,
     "metadata": {},
     "output_type": "execute_result"
    }
   ],
   "source": [
    "X_b = np.c_[np.ones((len(X_train), 1)), X_train]  # add x0 = 1 to each instance\n",
    "theta_val = np.linalg.inv(X_b.T.dot(X_b)).dot(X_b.T).dot(y_train)\n",
    "\n",
    "X_new = np.array([[0], [2]])\n",
    "X_new_b = np.c_[np.ones((2, 1)), X_new]  # add x0 = 1 to each instance\n",
    "theta_nor = X_new_b.dot(theta_val)\n",
    "theta_nor"
   ]
  },
  {
   "cell_type": "markdown",
   "id": "01801b8b",
   "metadata": {},
   "source": [
    "## 3.1"
   ]
  },
  {
   "cell_type": "markdown",
   "id": "4e3c18a7",
   "metadata": {},
   "source": [
    "# Stochastic Gradient Descent"
   ]
  },
  {
   "cell_type": "code",
   "execution_count": null,
   "id": "0b8aab72",
   "metadata": {},
   "outputs": [],
   "source": []
  },
  {
   "cell_type": "code",
   "execution_count": 10,
   "id": "f610212c",
   "metadata": {},
   "outputs": [],
   "source": [
    "def get_cost(theta,X,y):\n",
    "    y_len = len(y)   \n",
    "    y_preds = X.dot(theta)\n",
    "    cost = (1/2*y_len) * np.sum(np.square(y_preds-y))\n",
    "    return cost"
   ]
  },
  {
   "cell_type": "code",
   "execution_count": 11,
   "id": "a65a3be8",
   "metadata": {},
   "outputs": [],
   "source": [
    "def stochastic_gradient_descent(X,y,theta,learning_rate,iterations):\n",
    "    \n",
    "    X = np.c_[np.ones((len(X),1)),X]\n",
    "  \n",
    "    m = len(y)\n",
    "    cost_history = np.zeros(iterations)\n",
    "    for it in range(iterations):\n",
    "        cost =0.0\n",
    "        for i in range(m):\n",
    "   \n",
    "            preds = np.dot(X,theta)\n",
    "            dot_pro=X.T.dot((preds - y))\n",
    "            theta = theta -(1/m)*learning_rate*( dot_pro)\n",
    "            cost += get_cost(theta,X,y)\n",
    "        cost_history[it]  = cost\n",
    "       \n",
    "      \n",
    "    return theta, cost_history"
   ]
  },
  {
   "cell_type": "code",
   "execution_count": null,
   "id": "eb0c20f8",
   "metadata": {},
   "outputs": [],
   "source": []
  },
  {
   "cell_type": "code",
   "execution_count": 12,
   "id": "612cbe9d",
   "metadata": {},
   "outputs": [],
   "source": [
    "# lr='0.01'\n",
    "# theta,cost_history = stochastic_gradient_descent(X_train,y_train,theta,float(lr),n_iter)"
   ]
  },
  {
   "cell_type": "code",
   "execution_count": null,
   "id": "6b52473e",
   "metadata": {},
   "outputs": [],
   "source": []
  },
  {
   "cell_type": "markdown",
   "id": "0ab6b526",
   "metadata": {},
   "source": [
    "#### Testing data is passed to calculate the cost"
   ]
  },
  {
   "cell_type": "markdown",
   "id": "5a65b570",
   "metadata": {},
   "source": [
    "## 3c"
   ]
  },
  {
   "cell_type": "code",
   "execution_count": 13,
   "id": "18f8f7ca",
   "metadata": {},
   "outputs": [],
   "source": [
    "lr =['0.001', '0.002', '0.003', '0.004', '0.005', '0.006', '0.007', '0.008', '0.009', '0.01']\n",
    "n_iter = 20 #termination condition\n",
    "theta = np.random.randn(2,1)"
   ]
  },
  {
   "cell_type": "code",
   "execution_count": 14,
   "id": "1e803d3b",
   "metadata": {},
   "outputs": [
    {
     "name": "stdout",
     "output_type": "stream",
     "text": [
      "\n",
      "#####\n",
      "Learning Rate  =  0.001\n",
      "Theta =  [[-1.57281681]\n",
      " [ 0.93659727]]\n",
      "MSE :  3011.285809211995\n",
      "#####\n",
      "\n",
      "\n",
      "#####\n",
      "Learning Rate  =  0.002\n",
      "Theta =  [[-2.62460143]\n",
      " [ 1.04790974]]\n",
      "MSE :  2895.5980053233247\n",
      "#####\n",
      "\n",
      "\n",
      "#####\n",
      "Learning Rate  =  0.003\n",
      "Theta =  [[-3.4734273 ]\n",
      " [ 1.13774268]]\n",
      "MSE :  2884.5915479676705\n",
      "#####\n",
      "\n",
      "\n",
      "#####\n",
      "Learning Rate  =  0.004\n",
      "Theta =  [[-3.94852656]\n",
      " [ 1.18802339]]\n",
      "MSE :  2910.541014747739\n",
      "#####\n",
      "\n",
      "\n",
      "#####\n",
      "Learning Rate  =  0.005\n",
      "Theta =  [[-4.1430097 ]\n",
      " [ 1.20860593]]\n",
      "MSE :  2927.811291357557\n",
      "#####\n",
      "\n",
      "\n",
      "#####\n",
      "Learning Rate  =  0.006\n",
      "Theta =  [[-4.20262172]\n",
      " [ 1.21491479]]\n",
      "MSE :  2933.878145651057\n",
      "#####\n",
      "\n",
      "\n",
      "#####\n",
      "Learning Rate  =  0.007\n",
      "Theta =  [[-4.21647482]\n",
      " [ 1.21638089]]\n",
      "MSE :  2935.339961681007\n",
      "#####\n",
      "\n",
      "\n",
      "#####\n",
      "Learning Rate  =  0.008\n",
      "Theta =  [[-4.21893352]\n",
      " [ 1.2166411 ]]\n",
      "MSE :  2935.6014573056955\n",
      "#####\n",
      "\n",
      "\n",
      "#####\n",
      "Learning Rate  =  0.009\n",
      "Theta =  [[-4.21926835]\n",
      " [ 1.21667653]]\n",
      "MSE :  2935.637115770146\n",
      "#####\n",
      "\n",
      "\n",
      "#####\n",
      "Learning Rate  =  0.01\n",
      "Theta =  [[-4.21930344]\n",
      " [ 1.21668025]]\n",
      "MSE :  2935.6408538776623\n",
      "#####\n",
      "\n"
     ]
    }
   ],
   "source": [
    "mse_dict={}\n",
    "for i in lr:\n",
    "    y_train_1= np.reshape(y_train.values,(len(y_train), 1))\n",
    "    y_test_1= np.reshape(y_test.values,(len(y_test), 1))\n",
    "    theta,cost_history = stochastic_gradient_descent(X_train,y_train_1,theta,float(i),n_iter)\n",
    "    print('')\n",
    "    print('#####')\n",
    "    print('Learning Rate  = ',i)\n",
    "    print('Theta = ',theta)\n",
    "    \n",
    "    X_new = np.c_[np.ones((len(X_test),1)),X_test]\n",
    "    MSE_cost=get_cost(theta,X_new,y_test_1)\n",
    "    \n",
    "    mse_dict[float(i)]=MSE_cost\n",
    "    print('MSE : ', MSE_cost)\n",
    "    print('#####')\n",
    "    print('')"
   ]
  },
  {
   "cell_type": "code",
   "execution_count": 15,
   "id": "60847893",
   "metadata": {},
   "outputs": [
    {
     "data": {
      "text/plain": [
       "{0.001: 3011.285809211995,\n",
       " 0.002: 2895.5980053233247,\n",
       " 0.003: 2884.5915479676705,\n",
       " 0.004: 2910.541014747739,\n",
       " 0.005: 2927.811291357557,\n",
       " 0.006: 2933.878145651057,\n",
       " 0.007: 2935.339961681007,\n",
       " 0.008: 2935.6014573056955,\n",
       " 0.009: 2935.637115770146,\n",
       " 0.01: 2935.6408538776623}"
      ]
     },
     "execution_count": 15,
     "metadata": {},
     "output_type": "execute_result"
    }
   ],
   "source": [
    "mse_dict"
   ]
  },
  {
   "cell_type": "markdown",
   "id": "2e4da269",
   "metadata": {},
   "source": [
    "Best LR is 0.003"
   ]
  },
  {
   "cell_type": "markdown",
   "id": "580b4a79",
   "metadata": {
    "scrolled": true
   },
   "source": [
    "## Graph for LR vs MSE"
   ]
  },
  {
   "cell_type": "code",
   "execution_count": 16,
   "id": "69b118ac",
   "metadata": {},
   "outputs": [
    {
     "data": {
      "image/png": "[encoded data removed]",
      "text/plain": [
       "<Figure size 432x288 with 1 Axes>"
      ]
     },
     "metadata": {
      "needs_background": "light"
     },
     "output_type": "display_data"
    }
   ],
   "source": [
    "\n",
    "\n",
    "plt.plot(list(mse_dict.keys()), list(mse_dict.values()))\n",
    "plt.show()"
   ]
  },
  {
   "cell_type": "code",
   "execution_count": null,
   "id": "48ed3773",
   "metadata": {},
   "outputs": [],
   "source": []
  },
  {
   "cell_type": "markdown",
   "id": "437b957f",
   "metadata": {},
   "source": [
    "## 3.2"
   ]
  },
  {
   "cell_type": "markdown",
   "id": "5409b3dd",
   "metadata": {},
   "source": [
    "#  Batch Gradient Descent"
   ]
  },
  {
   "cell_type": "code",
   "execution_count": 17,
   "id": "50029bc5",
   "metadata": {},
   "outputs": [],
   "source": [
    "def get_cost(theta,X,y):\n",
    "    y_len = len(y)   \n",
    "    y_preds = X.dot(theta)\n",
    "    cost = (1/2*y_len) * np.sum(np.square(y_preds-y))\n",
    "    return cost"
   ]
  },
  {
   "cell_type": "code",
   "execution_count": 18,
   "id": "cb26cc2b",
   "metadata": {},
   "outputs": [],
   "source": [
    "def batch_gradient_descent(X,y,theta,learning_rate,iterations):\n",
    "    \n",
    "    \n",
    "    X = np.c_[np.ones((len(X),1)),X]\n",
    "    ylen = len(y)\n",
    "    cost_history = np.zeros(iterations)\n",
    "  \n",
    "    for it in range(iterations):\n",
    "        cost =0.0\n",
    "        \n",
    "       \n",
    "        preds = np.dot(X,theta)\n",
    "        dot_pro=X.T.dot((preds - y))\n",
    "        theta = theta -(1/ylen)*learning_rate*(dot_pro)\n",
    "        \n",
    "        cost += get_cost(theta,Xbat,ybat)\n",
    "        cost_history[it]  = cost\n",
    "       \n",
    "      \n",
    "    return theta, cost_history"
   ]
  },
  {
   "cell_type": "code",
   "execution_count": 19,
   "id": "41b2455d",
   "metadata": {},
   "outputs": [],
   "source": []
  },
  {
   "cell_type": "code",
   "execution_count": 20,
   "id": "8bdea6f4",
   "metadata": {},
   "outputs": [],
   "source": [
    "lr =['0.001', '0.002', '0.003', '0.004', '0.005', '0.006', '0.007', '0.008', '0.009', '0.01']\n",
    "n_iter = 30\n",
    "theta = np.random.randn(2,1)"
   ]
  },
  {
   "cell_type": "code",
   "execution_count": 21,
   "id": "edc17d75",
   "metadata": {},
   "outputs": [
    {
     "name": "stdout",
     "output_type": "stream",
     "text": [
      "\n",
      "#####\n",
      "Learning Rate  =  0.001\n",
      "Theta =  [[-0.8044811 ]\n",
      " [ 0.85528276]]\n",
      "MSE :  3167.1873977748187\n",
      "#####\n",
      "\n",
      "\n",
      "#####\n",
      "Learning Rate  =  0.002\n",
      "Theta =  [[-2.62201656]\n",
      " [ 1.04763618]]\n",
      "MSE :  2895.7438716748575\n",
      "#####\n",
      "\n",
      "\n",
      "#####\n",
      "Learning Rate  =  0.003\n",
      "Theta =  [[-3.70837116]\n",
      " [ 1.16260726]]\n",
      "MSE :  2894.5435883385044\n",
      "#####\n",
      "\n",
      "\n",
      "#####\n",
      "Learning Rate  =  0.004\n",
      "Theta =  [[-4.10754609]\n",
      " [ 1.20485274]]\n",
      "MSE :  2924.3742022211563\n",
      "#####\n",
      "\n",
      "\n",
      "#####\n",
      "Learning Rate  =  0.005\n",
      "Theta =  [[-4.20259085]\n",
      " [ 1.21491152]]\n",
      "MSE :  2933.874909378862\n",
      "#####\n",
      "\n",
      "\n",
      "#####\n",
      "Learning Rate  =  0.006\n",
      "Theta =  [[-4.21759707]\n",
      " [ 1.21649966]]\n",
      "MSE :  2935.459242089289\n",
      "#####\n",
      "\n",
      "\n",
      "#####\n",
      "Learning Rate  =  0.007\n",
      "Theta =  [[-4.21918695]\n",
      " [ 1.21666792]]\n",
      "MSE :  2935.628446058944\n",
      "#####\n",
      "\n",
      "\n",
      "#####\n",
      "Learning Rate  =  0.008\n",
      "Theta =  [[-4.21930075]\n",
      " [ 1.21667996]]\n",
      "MSE :  2935.640567397131\n",
      "#####\n",
      "\n",
      "\n",
      "#####\n",
      "Learning Rate  =  0.009\n",
      "Theta =  [[-4.21930628]\n",
      " [ 1.21668055]]\n",
      "MSE :  2935.6411560076804\n",
      "#####\n",
      "\n",
      "\n",
      "#####\n",
      "Learning Rate  =  0.01\n",
      "Theta =  [[-4.21930646]\n",
      " [ 1.21668057]]\n",
      "MSE :  2935.6411754460487\n",
      "#####\n",
      "\n"
     ]
    }
   ],
   "source": [
    "mse_dict_batch={}\n",
    "for i in lr:\n",
    "    y_train_1= np.reshape(y_train.values,(len(y_train), 1))\n",
    "    y_test_1= np.reshape(y_test.values,(len(y_test), 1))\n",
    "    theta,cost_history = stochastic_gradient_descent(X_train,y_train_1,theta,float(i),n_iter)\n",
    "    print('')\n",
    "    print('#####')\n",
    "    print('Learning Rate  = ',i)\n",
    "    print('Theta = ',theta)\n",
    "    \n",
    "    X_new = np.c_[np.ones((len(X_test),1)),X_test]\n",
    "    MSE_cost=get_cost(theta,X_new,y_test_1)\n",
    "    \n",
    "    mse_dict_batch[i]=MSE_cost\n",
    "    print('MSE : ', MSE_cost)\n",
    "    print('#####')\n",
    "    print('')"
   ]
  },
  {
   "cell_type": "code",
   "execution_count": 22,
   "id": "8033401f",
   "metadata": {},
   "outputs": [
    {
     "data": {
      "text/plain": [
       "{'0.001': 3167.1873977748187,\n",
       " '0.002': 2895.7438716748575,\n",
       " '0.003': 2894.5435883385044,\n",
       " '0.004': 2924.3742022211563,\n",
       " '0.005': 2933.874909378862,\n",
       " '0.006': 2935.459242089289,\n",
       " '0.007': 2935.628446058944,\n",
       " '0.008': 2935.640567397131,\n",
       " '0.009': 2935.6411560076804,\n",
       " '0.01': 2935.6411754460487}"
      ]
     },
     "execution_count": 22,
     "metadata": {},
     "output_type": "execute_result"
    }
   ],
   "source": [
    "mse_dict_batch"
   ]
  },
  {
   "cell_type": "markdown",
   "id": "c38f2232",
   "metadata": {},
   "source": [
    "Best LR us 0.03"
   ]
  },
  {
   "cell_type": "code",
   "execution_count": 24,
   "id": "7c0efda1",
   "metadata": {},
   "outputs": [
    {
     "data": {
      "image/png": "[encoded data removed]",
      "text/plain": [
       "<Figure size 432x288 with 1 Axes>"
      ]
     },
     "metadata": {
      "needs_background": "light"
     },
     "output_type": "display_data"
    }
   ],
   "source": [
    "plt.plot(list(mse_dict_batch.keys()), list(mse_dict_batch.values()))\n",
    "plt.show()"
   ]
  },
  {
   "cell_type": "markdown",
   "id": "d3e964bd",
   "metadata": {},
   "source": [
    " # HW ENDS HERE"
   ]
  },
  {
   "cell_type": "code",
   "execution_count": null,
   "id": "11131584",
   "metadata": {},
   "outputs": [],
   "source": []
  },
  {
   "cell_type": "code",
   "execution_count": null,
   "id": "e7a9d515",
   "metadata": {},
   "outputs": [],
   "source": []
  },
  {
   "cell_type": "code",
   "execution_count": null,
   "id": "5eb8e3b6",
   "metadata": {},
   "outputs": [],
   "source": []
  },
  {
   "cell_type": "code",
   "execution_count": null,
   "id": "b742a135",
   "metadata": {},
   "outputs": [],
   "source": []
  },
  {
   "cell_type": "code",
   "execution_count": null,
   "id": "9f06e8a4",
   "metadata": {},
   "outputs": [],
   "source": []
  },
  {
   "cell_type": "code",
   "execution_count": null,
   "id": "6faa2a79",
   "metadata": {},
   "outputs": [],
   "source": []
  },
  {
   "cell_type": "code",
   "execution_count": null,
   "id": "25d41043",
   "metadata": {},
   "outputs": [],
   "source": []
  },
  {
   "cell_type": "code",
   "execution_count": 169,
   "id": "5faebac2",
   "metadata": {},
   "outputs": [
    {
     "name": "stdout",
     "output_type": "stream",
     "text": [
      "Theta0:-4.219,\n",
      "Theta1:1.217\n"
     ]
    }
   ],
   "source": [
    "for i in lr \n",
    "theta,cost_history = stochastic_gradient_descent(X_train,y_train,theta,lr,n_iter)\n",
    "\n",
    "print('Theta0:{:0.3f},\\nTheta1:{:0.3f}'.format(theta[0][0],theta[1][0]))\n"
   ]
  },
  {
   "cell_type": "markdown",
   "id": "9a2f35de",
   "metadata": {},
   "source": [
    "### Testing"
   ]
  },
  {
   "cell_type": "code",
   "execution_count": 170,
   "id": "1bb0147d",
   "metadata": {},
   "outputs": [],
   "source": [
    "X_new = np.c_[np.ones((len(X_test),1)),X_test]\n",
    "MSE_cost=get_cost(theta,X_new,y_test)"
   ]
  },
  {
   "cell_type": "code",
   "execution_count": 171,
   "id": "c5e0050e",
   "metadata": {},
   "outputs": [
    {
     "data": {
      "text/plain": [
       "2935.640050972804"
      ]
     },
     "execution_count": 171,
     "metadata": {},
     "output_type": "execute_result"
    }
   ],
   "source": [
    "MSE_cost"
   ]
  },
  {
   "cell_type": "code",
   "execution_count": null,
   "id": "e9a8b943",
   "metadata": {},
   "outputs": [],
   "source": []
  },
  {
   "cell_type": "markdown",
   "id": "a0d2beb6",
   "metadata": {},
   "source": []
  },
  {
   "cell_type": "code",
   "execution_count": null,
   "id": "34231a68",
   "metadata": {},
   "outputs": [],
   "source": []
  },
  {
   "cell_type": "code",
   "execution_count": null,
   "id": "f5458ec3",
   "metadata": {},
   "outputs": [],
   "source": []
  },
  {
   "cell_type": "code",
   "execution_count": null,
   "id": "76c6a1ba",
   "metadata": {},
   "outputs": [],
   "source": []
  },
  {
   "cell_type": "code",
   "execution_count": null,
   "id": "9c1aa7a2",
   "metadata": {},
   "outputs": [],
   "source": []
  },
  {
   "cell_type": "code",
   "execution_count": null,
   "id": "d9b4cf1c",
   "metadata": {},
   "outputs": [],
   "source": []
  },
  {
   "cell_type": "code",
   "execution_count": null,
   "id": "5b176aed",
   "metadata": {},
   "outputs": [],
   "source": []
  },
  {
   "cell_type": "code",
   "execution_count": null,
   "id": "ba10a86b",
   "metadata": {},
   "outputs": [],
   "source": []
  },
  {
   "cell_type": "code",
   "execution_count": null,
   "id": "0a132f05",
   "metadata": {},
   "outputs": [],
   "source": []
  },
  {
   "cell_type": "code",
   "execution_count": null,
   "id": "8cc43483",
   "metadata": {},
   "outputs": [],
   "source": []
  },
  {
   "cell_type": "code",
   "execution_count": null,
   "id": "eafc99d1",
   "metadata": {},
   "outputs": [],
   "source": []
  },
  {
   "cell_type": "code",
   "execution_count": null,
   "id": "d283e6f9",
   "metadata": {},
   "outputs": [],
   "source": []
  },
  {
   "cell_type": "code",
   "execution_count": null,
   "id": "90aa68a8",
   "metadata": {},
   "outputs": [],
   "source": []
  },
  {
   "cell_type": "code",
   "execution_count": null,
   "id": "9f1d0fea",
   "metadata": {},
   "outputs": [],
   "source": []
  },
  {
   "cell_type": "code",
   "execution_count": null,
   "id": "48a5d6e3",
   "metadata": {},
   "outputs": [],
   "source": []
  },
  {
   "cell_type": "code",
   "execution_count": 157,
   "id": "2e517b3c",
   "metadata": {},
   "outputs": [
    {
     "data": {
      "text/plain": [
       "array([-1.5467311])"
      ]
     },
     "execution_count": 157,
     "metadata": {},
     "output_type": "execute_result"
    }
   ],
   "source": [
    "theta"
   ]
  },
  {
   "cell_type": "code",
   "execution_count": 140,
   "id": "4fefdfb1",
   "metadata": {},
   "outputs": [],
   "source": [
    "lr =0.5\n",
    "n_iter = 50\n",
    "\n",
    "theta = np.random.randn(2,1)\n",
    "\n",
    "X_b = np.c_[np.ones((len(X_train),1)),X_train]"
   ]
  },
  {
   "cell_type": "code",
   "execution_count": 141,
   "id": "3387557a",
   "metadata": {},
   "outputs": [
    {
     "data": {
      "text/plain": [
       "array([[ 0.64252965],\n",
       "       [-0.94078682]])"
      ]
     },
     "execution_count": 141,
     "metadata": {},
     "output_type": "execute_result"
    }
   ],
   "source": [
    "theta"
   ]
  },
  {
   "cell_type": "code",
   "execution_count": 142,
   "id": "720c4eb5",
   "metadata": {},
   "outputs": [
    {
     "data": {
      "text/plain": [
       "array([[ 1.    ,  5.4901],\n",
       "       [ 1.    ,  6.3557],\n",
       "       [ 1.    ,  7.4764],\n",
       "       [ 1.    ,  7.8247],\n",
       "       [ 1.    , 10.136 ],\n",
       "       [ 1.    ,  5.1884],\n",
       "       [ 1.    , 18.959 ],\n",
       "       [ 1.    ,  5.6063],\n",
       "       [ 1.    ,  7.9334],\n",
       "       [ 1.    ,  5.5204],\n",
       "       [ 1.    ,  8.5186],\n",
       "       [ 1.    ,  6.3589],\n",
       "       [ 1.    ,  5.734 ],\n",
       "       [ 1.    ,  5.0594],\n",
       "       [ 1.    ,  5.5649],\n",
       "       [ 1.    ,  8.5781],\n",
       "       [ 1.    ,  5.6407],\n",
       "       [ 1.    ,  6.0062],\n",
       "       [ 1.    ,  9.3102],\n",
       "       [ 1.    ,  7.2182],\n",
       "       [ 1.    , 13.176 ],\n",
       "       [ 1.    ,  6.3261],\n",
       "       [ 1.    ,  5.3077],\n",
       "       [ 1.    ,  5.5416],\n",
       "       [ 1.    ,  6.8825],\n",
       "       [ 1.    ,  6.3654],\n",
       "       [ 1.    , 14.908 ],\n",
       "       [ 1.    , 10.957 ],\n",
       "       [ 1.    ,  7.2259],\n",
       "       [ 1.    ,  6.002 ],\n",
       "       [ 1.    ,  6.4862],\n",
       "       [ 1.    ,  7.6031],\n",
       "       [ 1.    ,  7.6366],\n",
       "       [ 1.    , 20.27  ],\n",
       "       [ 1.    ,  5.4069],\n",
       "       [ 1.    ,  6.4296],\n",
       "       [ 1.    ,  5.1301],\n",
       "       [ 1.    ,  5.6397],\n",
       "       [ 1.    ,  5.1793],\n",
       "       [ 1.    ,  5.8918],\n",
       "       [ 1.    ,  7.4239],\n",
       "       [ 1.    ,  5.0365],\n",
       "       [ 1.    ,  7.0032],\n",
       "       [ 1.    , 11.7   ],\n",
       "       [ 1.    ,  8.8254],\n",
       "       [ 1.    ,  5.7737],\n",
       "       [ 1.    ,  6.3534],\n",
       "       [ 1.    ,  5.0546],\n",
       "       [ 1.    ,  8.2934],\n",
       "       [ 1.    , 20.341 ],\n",
       "       [ 1.    ,  5.4369],\n",
       "       [ 1.    , 12.828 ],\n",
       "       [ 1.    ,  8.5172],\n",
       "       [ 1.    ,  6.5894],\n",
       "       [ 1.    , 10.274 ],\n",
       "       [ 1.    ,  5.7292],\n",
       "       [ 1.    ,  5.0702],\n",
       "       [ 1.    ,  5.3794],\n",
       "       [ 1.    ,  5.3054],\n",
       "       [ 1.    , 11.708 ],\n",
       "       [ 1.    ,  5.0269],\n",
       "       [ 1.    ,  5.2524],\n",
       "       [ 1.    ,  9.4536],\n",
       "       [ 1.    , 13.394 ],\n",
       "       [ 1.    , 10.236 ],\n",
       "       [ 1.    ,  5.8598],\n",
       "       [ 1.    ,  7.0708],\n",
       "       [ 1.    ,  9.1802],\n",
       "       [ 1.    ,  5.5277],\n",
       "       [ 1.    ,  6.2742],\n",
       "       [ 1.    ,  7.5386],\n",
       "       [ 1.    ,  8.3829],\n",
       "       [ 1.    ,  6.3328],\n",
       "       [ 1.    ,  8.2951],\n",
       "       [ 1.    ,  5.8707],\n",
       "       [ 1.    ,  5.8014],\n",
       "       [ 1.    , 18.945 ]])"
      ]
     },
     "execution_count": 142,
     "metadata": {},
     "output_type": "execute_result"
    }
   ],
   "source": [
    "X_b"
   ]
  },
  {
   "cell_type": "code",
   "execution_count": null,
   "id": "091cb801",
   "metadata": {},
   "outputs": [],
   "source": []
  },
  {
   "cell_type": "code",
   "execution_count": null,
   "id": "9adaeb18",
   "metadata": {},
   "outputs": [],
   "source": []
  },
  {
   "cell_type": "code",
   "execution_count": 131,
   "id": "b71148e8",
   "metadata": {},
   "outputs": [],
   "source": [
    "n_iterations = 1000\n",
    "learning_rate = 0.01\n",
    " \n",
    "def predict(X, y, coef):\n",
    "    '''\n",
    "    Activation function: w0 + w1*x1 + w2*x2 + ... + wn*xn\n",
    "    '''\n",
    "    output = np.dot(X, coef[1:]) + coef[0]\n",
    "    '''\n",
    "    Unit Step function: Predict 1 if output >= 0 else 0\n",
    "    '''\n",
    "    return np.where(output >= 0.0, 1, 0)\n",
    "     \n",
    "def fit(X, y):\n",
    "        rgen = np.random.RandomState(1)\n",
    "        coef_ = rgen.normal(loc=0.0, scale=0.01, size=1 + X.shape[1])\n",
    "        for _ in range(n_iterations):\n",
    "            for xi, expected_value in zip(X, y):\n",
    "                predicted_value = predict(xi, expected_value, coef_)\n",
    "        \n",
    "                coef_[1:] += learning_rate * (expected_value - predicted_value) * xi\n",
    "                coef_[0] += learning_rate * (expected_value - predicted_value) * 1\n",
    "        print(coef_)\n",
    "        return coef_"
   ]
  },
  {
   "cell_type": "code",
   "execution_count": 132,
   "id": "90876d5d",
   "metadata": {},
   "outputs": [
    {
     "name": "stdout",
     "output_type": "stream",
     "text": [
      "[ 3377.72644345 38314.062335  ]\n"
     ]
    },
    {
     "data": {
      "text/plain": [
       "array([ 3377.72644345, 38314.062335  ])"
      ]
     },
     "execution_count": 132,
     "metadata": {},
     "output_type": "execute_result"
    }
   ],
   "source": [
    "fit(X_train,y_train)"
   ]
  },
  {
   "cell_type": "code",
   "execution_count": 124,
   "id": "28b44481",
   "metadata": {},
   "outputs": [
    {
     "name": "stdout",
     "output_type": "stream",
     "text": [
      "[0.77633506] [-0.058511]\n"
     ]
    }
   ],
   "source": [
    "# Building the model\n",
    "m = 0\n",
    "c = 0\n",
    "\n",
    "L = 0.0001  # The learning Rate\n",
    "epochs = 1000  # The number of iterations to perform gradient descent\n",
    "\n",
    "n = float(len(X_train)) # Number of elements in X\n",
    "\n",
    "# Performing Gradient Descent \n",
    "for i in range(epochs): \n",
    "    Y_pred = m*X_train + c  # The current predicted value of Y\n",
    "    D_m = (-2/n) * sum(X_train * (y_train - Y_pred))  # Derivative wrt m\n",
    "    D_c = (-2/n) * sum(y_train - Y_pred)  # Derivative wrt c\n",
    "    m = m - L * D_m  # Update m\n",
    "    c = c - L * D_c  # Update c\n",
    "    \n",
    "print (m, c)"
   ]
  },
  {
   "cell_type": "code",
   "execution_count": null,
   "id": "544b2416",
   "metadata": {},
   "outputs": [],
   "source": [
    "# Making predictions\n",
    "Y_pred = m*X + c\n",
    "\n",
    "plt.scatter(X, Y) \n",
    "plt.plot([min(X), max(X)], [min(Y_pred), max(Y_pred)], color='red')  # regression line\n",
    "plt.show()"
   ]
  },
  {
   "cell_type": "code",
   "execution_count": 98,
   "id": "2d42662c",
   "metadata": {},
   "outputs": [],
   "source": [
    "def  get_cost(theta,X,y):\n",
    "    y_len = len(y)   \n",
    "    y_preds = X.dot(theta)\n",
    "    cost = (1/2*y_len) * np.sum(np.square(y_preds-y))\n",
    "    return cost"
   ]
  },
  {
   "cell_type": "code",
   "execution_count": 102,
   "id": "daa98416",
   "metadata": {},
   "outputs": [],
   "source": [
    "def gradient_descent(X,y,theta,learning_rate=0.01,iterations=97):\n",
    "    y_len = len(y)  \n",
    "    for it in range(iterations):\n",
    "        \n",
    "        preds = np.dot(X,theta)\n",
    "        \n",
    "        theta = theta -(1/y_len)*learning_rate*( X.T.dot((preds - y)))\n",
    "      \n",
    "    return theta\n",
    "        "
   ]
  },
  {
   "cell_type": "code",
   "execution_count": null,
   "id": "93970e8d",
   "metadata": {},
   "outputs": [],
   "source": []
  },
  {
   "cell_type": "code",
   "execution_count": 116,
   "id": "efe3ac4f",
   "metadata": {},
   "outputs": [],
   "source": [
    "import sklearn\n",
    "from sklearn.model_selection import train_test_split"
   ]
  },
  {
   "cell_type": "code",
   "execution_count": 117,
   "id": "38b156fc",
   "metadata": {},
   "outputs": [],
   "source": [
    "X_train, X_test, y_train, y_test=train_test_split(X1,Y1, test_size=20, random_state=90)"
   ]
  },
  {
   "cell_type": "code",
   "execution_count": 121,
   "id": "52c22b28",
   "metadata": {},
   "outputs": [
    {
     "data": {
      "text/plain": [
       "array([[-3.89578088],\n",
       "       [-1.50971359]])"
      ]
     },
     "execution_count": 121,
     "metadata": {},
     "output_type": "execute_result"
    }
   ],
   "source": [
    "y_predict"
   ]
  },
  {
   "cell_type": "code",
   "execution_count": 119,
   "id": "6ce3fe36",
   "metadata": {},
   "outputs": [],
   "source": [
    "lr =0.01\n",
    "n_iter = 1000\n",
    "\n",
    "theta = y_predict\n",
    "\n",
    "X_b = np.c_[np.ones((len(X_train),1)),X_train]\n",
    "theta,theta_history = gradient_descent(X_b,y_train,theta,lr,n_iter)"
   ]
  },
  {
   "cell_type": "code",
   "execution_count": 120,
   "id": "65b6a075",
   "metadata": {},
   "outputs": [
    {
     "name": "stdout",
     "output_type": "stream",
     "text": [
      "Theta0:          -4.103,\n",
      "Theta1:          1.204\n",
      "Final cost/MSE:  22237.619\n"
     ]
    }
   ],
   "source": [
    "print('Theta0:          {:0.3f},\\nTheta1:          {:0.3f}'.format(theta[0][0],theta[1][0]))\n"
   ]
  },
  {
   "cell_type": "code",
   "execution_count": null,
   "id": "bc6e809b",
   "metadata": {},
   "outputs": [],
   "source": []
  },
  {
   "cell_type": "code",
   "execution_count": null,
   "id": "85735d00",
   "metadata": {},
   "outputs": [],
   "source": []
  },
  {
   "cell_type": "code",
   "execution_count": null,
   "id": "daf0f6eb",
   "metadata": {},
   "outputs": [],
   "source": []
  },
  {
   "cell_type": "code",
   "execution_count": null,
   "id": "9f20743d",
   "metadata": {},
   "outputs": [],
   "source": []
  },
  {
   "cell_type": "code",
   "execution_count": 57,
   "id": "9d85c32d",
   "metadata": {
    "scrolled": true
   },
   "outputs": [
    {
     "data": {
      "text/plain": [
       "(97, 1)"
      ]
     },
     "execution_count": 57,
     "metadata": {},
     "output_type": "execute_result"
    }
   ],
   "source": [
    "X1.shape"
   ]
  },
  {
   "cell_type": "code",
   "execution_count": 58,
   "id": "f0d9bd72",
   "metadata": {
    "scrolled": true
   },
   "outputs": [
    {
     "data": {
      "text/plain": [
       "[<matplotlib.lines.Line2D at 0x137d84940>]"
      ]
     },
     "execution_count": 58,
     "metadata": {},
     "output_type": "execute_result"
    },
    {
     "data": {
      "image/png": "[encoded data removed]",
      "text/plain": [
       "<Figure size 432x288 with 1 Axes>"
      ]
     },
     "metadata": {
      "needs_background": "light"
     },
     "output_type": "display_data"
    }
   ],
   "source": [
    "plt.plot(data2['X'],data2['Y'],'ro')"
   ]
  },
  {
   "cell_type": "code",
   "execution_count": 50,
   "id": "dabdbcb9",
   "metadata": {},
   "outputs": [],
   "source": [
    "theta_og = np.linalg.inv(X1.T.dot(X1)).dot(X1.T).dot(Y1)"
   ]
  },
  {
   "cell_type": "code",
   "execution_count": null,
   "id": "4045b19e",
   "metadata": {},
   "outputs": [],
   "source": []
  },
  {
   "cell_type": "code",
   "execution_count": 93,
   "id": "247d536c",
   "metadata": {},
   "outputs": [],
   "source": [
    "X1=data2['X'].to_numpy()\n",
    "X1=X1.reshape(97,1)\n",
    "Y1=data2['Y'].to_numpy()\n",
    "Y1=Y1.reshape(97,1)"
   ]
  },
  {
   "cell_type": "code",
   "execution_count": 94,
   "id": "133ca354",
   "metadata": {},
   "outputs": [],
   "source": [
    "X_b = np.c_[np.ones((97, 1)), X1]  # add x0 = 1 to each instance\n",
    "theta_best = np.linalg.inv(X_b.T.dot(X_b)).dot(X_b.T).dot(Y1)"
   ]
  },
  {
   "cell_type": "code",
   "execution_count": 95,
   "id": "d82c362d",
   "metadata": {},
   "outputs": [
    {
     "data": {
      "text/plain": [
       "array([[-3.89578088],\n",
       "       [ 1.19303364]])"
      ]
     },
     "execution_count": 95,
     "metadata": {},
     "output_type": "execute_result"
    }
   ],
   "source": [
    "theta_best"
   ]
  },
  {
   "cell_type": "code",
   "execution_count": 96,
   "id": "98286464",
   "metadata": {},
   "outputs": [
    {
     "name": "stdout",
     "output_type": "stream",
     "text": [
      "[[ 2.10147995]\n",
      " [ 2.11293307]\n",
      " [ 2.13452698]\n",
      " [ 2.14025354]\n",
      " [ 2.1531383 ]\n",
      " [ 2.19787707]\n",
      " [ 2.22460102]\n",
      " [ 2.28329828]\n",
      " [ 2.29415488]\n",
      " [ 2.37050903]\n",
      " [ 2.43373982]\n",
      " [ 2.43648379]\n",
      " [ 2.52202431]\n",
      " [ 2.55483273]\n",
      " [ 2.59062374]\n",
      " [ 2.65409313]\n",
      " [ 2.66518834]\n",
      " [ 2.69024205]\n",
      " [ 2.6989512 ]\n",
      " [ 2.71553436]\n",
      " [ 2.74333205]\n",
      " [ 2.79272364]\n",
      " [ 2.83257096]\n",
      " [ 2.833764  ]\n",
      " [ 2.91369725]\n",
      " [ 2.91727635]\n",
      " [ 2.93934748]\n",
      " [ 2.94507404]\n",
      " [ 2.99243747]\n",
      " [ 3.02548451]\n",
      " [ 3.09515767]\n",
      " [ 3.10816174]\n",
      " [ 3.13333475]\n",
      " [ 3.26480705]\n",
      " [ 3.2698178 ]\n",
      " [ 3.39377399]\n",
      " [ 3.48802365]\n",
      " [ 3.58955081]\n",
      " [ 3.65146926]\n",
      " [ 3.65946258]\n",
      " [ 3.68403908]\n",
      " [ 3.68678305]\n",
      " [ 3.69060076]\n",
      " [ 3.69835548]\n",
      " [ 3.77494824]\n",
      " [ 3.84247394]\n",
      " [ 3.87790704]\n",
      " [ 3.91608412]\n",
      " [ 3.96559502]\n",
      " [ 4.31527318]\n",
      " [ 4.45927234]\n",
      " [ 4.53992141]\n",
      " [ 4.56652606]\n",
      " [ 4.71577457]\n",
      " [ 4.72496093]\n",
      " [ 4.85452438]\n",
      " [ 4.96118159]\n",
      " [ 5.02381586]\n",
      " [ 5.09802255]\n",
      " [ 5.09993141]\n",
      " [ 5.17497322]\n",
      " [ 5.21493985]\n",
      " [ 5.43934948]\n",
      " [ 5.56903223]\n",
      " [ 5.7629002 ]\n",
      " [ 5.90033768]\n",
      " [ 5.99852435]\n",
      " [ 6.0005525 ]\n",
      " [ 6.10530086]\n",
      " [ 6.13572322]\n",
      " [ 6.26552528]\n",
      " [ 6.26719552]\n",
      " [ 6.33818102]\n",
      " [ 6.63321825]\n",
      " [ 7.05650658]\n",
      " [ 7.13763287]\n",
      " [ 7.21160096]\n",
      " [ 7.38268198]\n",
      " [ 7.75860688]\n",
      " [ 8.19680814]\n",
      " [ 8.3161115 ]\n",
      " [ 8.36144678]\n",
      " [ 9.17628876]\n",
      " [10.06271276]\n",
      " [10.07225703]\n",
      " [11.40845471]\n",
      " [11.41799898]\n",
      " [11.82363042]\n",
      " [12.08371175]\n",
      " [13.00234766]\n",
      " [13.88996469]\n",
      " [18.70624151]\n",
      " [18.72294398]\n",
      " [20.28701109]\n",
      " [20.37171648]\n",
      " [21.49078204]\n",
      " [22.59314512]]\n"
     ]
    }
   ],
   "source": [
    "new_y_vals = theta_best[0] + theta_best[1]*X1\n",
    "print(new_y_vals)"
   ]
  },
  {
   "cell_type": "code",
   "execution_count": 69,
   "id": "0652ff0f",
   "metadata": {},
   "outputs": [
    {
     "data": {
      "text/plain": [
       "array([[-2.6807 ],\n",
       "       [ 5.7014 ],\n",
       "       [ 3.8166 ],\n",
       "       [ 2.8214 ],\n",
       "       [ 5.1337 ],\n",
       "       [ 2.0576 ],\n",
       "       [ 0.56077],\n",
       "       [-0.74279],\n",
       "       [ 0.20421],\n",
       "       [-1.22   ],\n",
       "       [ 1.9869 ],\n",
       "       [ 1.8396 ],\n",
       "       [ 3.5129 ],\n",
       "       [ 0.55657],\n",
       "       [ 0.61705],\n",
       "       [ 4.263  ],\n",
       "       [ 1.0173 ],\n",
       "       [ 0.152  ],\n",
       "       [ 9.1302 ],\n",
       "       [ 1.0179 ],\n",
       "       [ 3.0825 ],\n",
       "       [ 3.3928 ],\n",
       "       [ 4.6042 ],\n",
       "       [ 0.71618],\n",
       "       [ 1.8451 ],\n",
       "       [ 3.2522 ],\n",
       "       [ 0.47953],\n",
       "       [ 3.1551 ],\n",
       "       [ 2.4406 ],\n",
       "       [ 1.844  ],\n",
       "       [ 6.8233 ],\n",
       "       [ 7.2029 ],\n",
       "       [ 1.8495 ],\n",
       "       [ 0.92695],\n",
       "       [ 1.2784 ],\n",
       "       [17.592  ],\n",
       "       [ 3.1386 ],\n",
       "       [ 2.4756 ],\n",
       "       [ 5.1875 ],\n",
       "       [ 1.4233 ],\n",
       "       [ 5.4974 ],\n",
       "       [ 0.67861],\n",
       "       [-1.4211 ],\n",
       "       [ 5.3048 ],\n",
       "       [ 3.6518 ],\n",
       "       [ 6.5987 ],\n",
       "       [ 5.3436 ],\n",
       "       [ 0.29678],\n",
       "       [ 5.9966 ],\n",
       "       [ 3.9115 ],\n",
       "       [11.854  ],\n",
       "       [ 5.3893 ],\n",
       "       [ 1.0463 ],\n",
       "       [ 4.8852 ],\n",
       "       [ 3.3411 ],\n",
       "       [ 4.0259 ],\n",
       "       [ 4.2885 ],\n",
       "       [ 4.3483 ],\n",
       "       [ 3.8845 ],\n",
       "       [ 6.7504 ],\n",
       "       [ 4.9981 ],\n",
       "       [ 4.2959 ],\n",
       "       [ 6.7318 ],\n",
       "       [ 4.5623 ],\n",
       "       [ 4.1164 ],\n",
       "       [ 6.5426 ],\n",
       "       [ 0.14454],\n",
       "       [ 5.7442 ],\n",
       "       [11.886  ],\n",
       "       [ 7.2258 ],\n",
       "       [ 4.2415 ],\n",
       "       [13.662  ],\n",
       "       [12.     ],\n",
       "       [ 5.1694 ],\n",
       "       [ 6.7981 ],\n",
       "       [12.134  ],\n",
       "       [ 3.9624 ],\n",
       "       [ 5.4141 ],\n",
       "       [ 7.5435 ],\n",
       "       [ 6.6799 ],\n",
       "       [ 7.7754 ],\n",
       "       [ 6.7526 ],\n",
       "       [ 7.0467 ],\n",
       "       [ 8.0043 ],\n",
       "       [ 5.3854 ],\n",
       "       [13.501  ],\n",
       "       [10.117  ],\n",
       "       [14.692  ],\n",
       "       [ 9.0551 ],\n",
       "       [15.505  ],\n",
       "       [12.054  ],\n",
       "       [22.638  ],\n",
       "       [17.054  ],\n",
       "       [21.767  ],\n",
       "       [20.992  ],\n",
       "       [17.929  ],\n",
       "       [24.147  ]])"
      ]
     },
     "execution_count": 69,
     "metadata": {},
     "output_type": "execute_result"
    }
   ],
   "source": [
    "Y1"
   ]
  },
  {
   "cell_type": "code",
   "execution_count": null,
   "id": "3f1edc61",
   "metadata": {},
   "outputs": [],
   "source": []
  },
  {
   "cell_type": "code",
   "execution_count": 66,
   "id": "54361088",
   "metadata": {},
   "outputs": [],
   "source": [
    "X_new = np.array([[0], [2]])\n",
    "X_new_b = np.c_[np.ones((2, 1)), X_new]  # add x0 = 1 to each instance\n",
    "y_predict = X_new_b.dot(theta_best)\n"
   ]
  },
  {
   "cell_type": "code",
   "execution_count": 65,
   "id": "2c89ef85",
   "metadata": {},
   "outputs": [
    {
     "data": {
      "text/plain": [
       "array([[-3.89578088],\n",
       "       [-1.50971359]])"
      ]
     },
     "execution_count": 65,
     "metadata": {},
     "output_type": "execute_result"
    }
   ],
   "source": []
  },
  {
   "cell_type": "code",
   "execution_count": null,
   "id": "389d28dc",
   "metadata": {},
   "outputs": [],
   "source": []
  },
  {
   "cell_type": "code",
   "execution_count": null,
   "id": "1678e6e7",
   "metadata": {},
   "outputs": [],
   "source": []
  },
  {
   "cell_type": "code",
   "execution_count": 59,
   "id": "fa6fa869",
   "metadata": {},
   "outputs": [],
   "source": [
    "X_transpose = X1.T  \n",
    "best_params = inv(X_transpose.dot(X1)).dot(X_transpose).dot(Y1) "
   ]
  },
  {
   "cell_type": "code",
   "execution_count": 60,
   "id": "bf380f03",
   "metadata": {},
   "outputs": [
    {
     "data": {
      "text/plain": [
       "array([[0.80252685]])"
      ]
     },
     "execution_count": 60,
     "metadata": {},
     "output_type": "execute_result"
    }
   ],
   "source": [
    "best_params"
   ]
  },
  {
   "cell_type": "code",
   "execution_count": 35,
   "id": "feb037ad",
   "metadata": {
    "scrolled": true
   },
   "outputs": [
    {
     "ename": "AttributeError",
     "evalue": "'Series' object has no attribute 'flatten'",
     "output_type": "error",
     "traceback": [
      "\u001b[0;31m---------------------------------------------------------------------------\u001b[0m",
      "\u001b[0;31mAttributeError\u001b[0m                            Traceback (most recent call last)",
      "Input \u001b[0;32mIn [35]\u001b[0m, in \u001b[0;36m<cell line: 2>\u001b[0;34m()\u001b[0m\n\u001b[1;32m      1\u001b[0m X1\u001b[38;5;241m=\u001b[39mdata2[\u001b[38;5;124m'\u001b[39m\u001b[38;5;124mX\u001b[39m\u001b[38;5;124m'\u001b[39m]\n\u001b[0;32m----> 2\u001b[0m X1\u001b[38;5;241m=\u001b[39m\u001b[43mX1\u001b[49m\u001b[38;5;241;43m.\u001b[39;49m\u001b[43mflatten\u001b[49m(order\u001b[38;5;241m=\u001b[39m\u001b[38;5;124m'\u001b[39m\u001b[38;5;124mC\u001b[39m\u001b[38;5;124m'\u001b[39m)\n\u001b[1;32m      3\u001b[0m y1\u001b[38;5;241m=\u001b[39mdata2[\u001b[38;5;124m'\u001b[39m\u001b[38;5;124mY\u001b[39m\u001b[38;5;124m'\u001b[39m]\n\u001b[1;32m      4\u001b[0m \u001b[38;5;28mprint\u001b[39m(X1\u001b[38;5;241m.\u001b[39mshape)\n",
      "File \u001b[0;32m~/Library/Python/3.8/lib/python/site-packages/pandas/core/generic.py:5583\u001b[0m, in \u001b[0;36mNDFrame.__getattr__\u001b[0;34m(self, name)\u001b[0m\n\u001b[1;32m   5576\u001b[0m \u001b[38;5;28;01mif\u001b[39;00m (\n\u001b[1;32m   5577\u001b[0m     name \u001b[38;5;129;01mnot\u001b[39;00m \u001b[38;5;129;01min\u001b[39;00m \u001b[38;5;28mself\u001b[39m\u001b[38;5;241m.\u001b[39m_internal_names_set\n\u001b[1;32m   5578\u001b[0m     \u001b[38;5;129;01mand\u001b[39;00m name \u001b[38;5;129;01mnot\u001b[39;00m \u001b[38;5;129;01min\u001b[39;00m \u001b[38;5;28mself\u001b[39m\u001b[38;5;241m.\u001b[39m_metadata\n\u001b[1;32m   5579\u001b[0m     \u001b[38;5;129;01mand\u001b[39;00m name \u001b[38;5;129;01mnot\u001b[39;00m \u001b[38;5;129;01min\u001b[39;00m \u001b[38;5;28mself\u001b[39m\u001b[38;5;241m.\u001b[39m_accessors\n\u001b[1;32m   5580\u001b[0m     \u001b[38;5;129;01mand\u001b[39;00m \u001b[38;5;28mself\u001b[39m\u001b[38;5;241m.\u001b[39m_info_axis\u001b[38;5;241m.\u001b[39m_can_hold_identifiers_and_holds_name(name)\n\u001b[1;32m   5581\u001b[0m ):\n\u001b[1;32m   5582\u001b[0m     \u001b[38;5;28;01mreturn\u001b[39;00m \u001b[38;5;28mself\u001b[39m[name]\n\u001b[0;32m-> 5583\u001b[0m \u001b[38;5;28;01mreturn\u001b[39;00m \u001b[38;5;28;43mobject\u001b[39;49m\u001b[38;5;241;43m.\u001b[39;49m\u001b[38;5;21;43m__getattribute__\u001b[39;49m\u001b[43m(\u001b[49m\u001b[38;5;28;43mself\u001b[39;49m\u001b[43m,\u001b[49m\u001b[43m \u001b[49m\u001b[43mname\u001b[49m\u001b[43m)\u001b[49m\n",
      "\u001b[0;31mAttributeError\u001b[0m: 'Series' object has no attribute 'flatten'"
     ]
    }
   ],
   "source": [
    "X1=data2['X']\n",
    "X1=X1.flatten(order='C')\n",
    "y1=data2['Y']\n",
    "print(X1.shape)\n",
    "X=np.reshape(X1, (97, 1))\n",
    "y=np.reshape(Y1, (97, 1))"
   ]
  },
  {
   "cell_type": "code",
   "execution_count": 29,
   "id": "66c0b39e",
   "metadata": {},
   "outputs": [
    {
     "ename": "LinAlgError",
     "evalue": "0-dimensional array given. Array must be at least two-dimensional",
     "output_type": "error",
     "traceback": [
      "\u001b[0;31m---------------------------------------------------------------------------\u001b[0m",
      "\u001b[0;31mLinAlgError\u001b[0m                               Traceback (most recent call last)",
      "Input \u001b[0;32mIn [29]\u001b[0m, in \u001b[0;36m<cell line: 2>\u001b[0;34m()\u001b[0m\n\u001b[1;32m      1\u001b[0m X_transpose \u001b[38;5;241m=\u001b[39m data2[\u001b[38;5;124m'\u001b[39m\u001b[38;5;124mX\u001b[39m\u001b[38;5;124m'\u001b[39m]\u001b[38;5;241m.\u001b[39mT  \n\u001b[0;32m----> 2\u001b[0m best_params \u001b[38;5;241m=\u001b[39m \u001b[43minv\u001b[49m\u001b[43m(\u001b[49m\u001b[43mX_transpose\u001b[49m\u001b[38;5;241;43m.\u001b[39;49m\u001b[43mdot\u001b[49m\u001b[43m(\u001b[49m\u001b[43mdata2\u001b[49m\u001b[43m[\u001b[49m\u001b[38;5;124;43m'\u001b[39;49m\u001b[38;5;124;43mX\u001b[39;49m\u001b[38;5;124;43m'\u001b[39;49m\u001b[43m]\u001b[49m\u001b[43m)\u001b[49m\u001b[43m)\u001b[49m\u001b[38;5;241m.\u001b[39mdot(X_transpose)\u001b[38;5;241m.\u001b[39mdot(data2[\u001b[38;5;124m'\u001b[39m\u001b[38;5;124mY\u001b[39m\u001b[38;5;124m'\u001b[39m])\n",
      "File \u001b[0;32m<__array_function__ internals>:180\u001b[0m, in \u001b[0;36minv\u001b[0;34m(*args, **kwargs)\u001b[0m\n",
      "File \u001b[0;32m~/Library/Python/3.8/lib/python/site-packages/numpy/linalg/linalg.py:539\u001b[0m, in \u001b[0;36minv\u001b[0;34m(a)\u001b[0m\n\u001b[1;32m    478\u001b[0m \u001b[38;5;124;03m\"\"\"\u001b[39;00m\n\u001b[1;32m    479\u001b[0m \u001b[38;5;124;03mCompute the (multiplicative) inverse of a matrix.\u001b[39;00m\n\u001b[1;32m    480\u001b[0m \n\u001b[0;32m   (...)\u001b[0m\n\u001b[1;32m    536\u001b[0m \n\u001b[1;32m    537\u001b[0m \u001b[38;5;124;03m\"\"\"\u001b[39;00m\n\u001b[1;32m    538\u001b[0m a, wrap \u001b[38;5;241m=\u001b[39m _makearray(a)\n\u001b[0;32m--> 539\u001b[0m \u001b[43m_assert_stacked_2d\u001b[49m\u001b[43m(\u001b[49m\u001b[43ma\u001b[49m\u001b[43m)\u001b[49m\n\u001b[1;32m    540\u001b[0m _assert_stacked_square(a)\n\u001b[1;32m    541\u001b[0m t, result_t \u001b[38;5;241m=\u001b[39m _commonType(a)\n",
      "File \u001b[0;32m~/Library/Python/3.8/lib/python/site-packages/numpy/linalg/linalg.py:196\u001b[0m, in \u001b[0;36m_assert_stacked_2d\u001b[0;34m(*arrays)\u001b[0m\n\u001b[1;32m    194\u001b[0m \u001b[38;5;28;01mfor\u001b[39;00m a \u001b[38;5;129;01min\u001b[39;00m arrays:\n\u001b[1;32m    195\u001b[0m     \u001b[38;5;28;01mif\u001b[39;00m a\u001b[38;5;241m.\u001b[39mndim \u001b[38;5;241m<\u001b[39m \u001b[38;5;241m2\u001b[39m:\n\u001b[0;32m--> 196\u001b[0m         \u001b[38;5;28;01mraise\u001b[39;00m LinAlgError(\u001b[38;5;124m'\u001b[39m\u001b[38;5;132;01m%d\u001b[39;00m\u001b[38;5;124m-dimensional array given. Array must be \u001b[39m\u001b[38;5;124m'\u001b[39m\n\u001b[1;32m    197\u001b[0m                 \u001b[38;5;124m'\u001b[39m\u001b[38;5;124mat least two-dimensional\u001b[39m\u001b[38;5;124m'\u001b[39m \u001b[38;5;241m%\u001b[39m a\u001b[38;5;241m.\u001b[39mndim)\n",
      "\u001b[0;31mLinAlgError\u001b[0m: 0-dimensional array given. Array must be at least two-dimensional"
     ]
    }
   ],
   "source": []
  },
  {
   "cell_type": "code",
   "execution_count": null,
   "id": "d4cf3d08",
   "metadata": {},
   "outputs": [],
   "source": []
  }
 ],
 "metadata": {
  "kernelspec": {
   "display_name": "Python 3 (ipykernel)",
   "language": "python",
   "name": "python3"
  },
  "language_info": {
   "codemirror_mode": {
    "name": "ipython",
    "version": 3
   },
   "file_extension": ".py",
   "mimetype": "text/x-python",
   "name": "python",
   "nbconvert_exporter": "python",
   "pygments_lexer": "ipython3",
   "version": "3.8.9"
  }
 },
 "nbformat": 4,
 "nbformat_minor": 5
}
