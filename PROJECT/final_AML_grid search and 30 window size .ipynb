{
 "cells": [
  {
   "cell_type": "code",
   "execution_count": 2,
   "metadata": {
    "id": "JK7FRujREvy6"
   },
   "outputs": [],
   "source": [
    "import pandas as pd\n",
    "import numpy as np\n",
    "from sklearn.preprocessing import MinMaxScaler\n",
    "import tensorflow as tf"
   ]
  },
  {
   "cell_type": "code",
   "execution_count": 3,
   "metadata": {
    "id": "1JC9ut56Ez_4"
   },
   "outputs": [],
   "source": [
    "df = pd.read_csv(\"RELIANCE.NS.csv\")"
   ]
  },
  {
   "cell_type": "code",
   "execution_count": 4,
   "metadata": {
    "id": "cjXqVqJ4Ez9i"
   },
   "outputs": [],
   "source": [
    "# Drop any missing values\n",
    "df.dropna(inplace=True)\n",
    "\n",
    "# Convert the 'Date' column to a datetime object\n",
    "df['Date'] = pd.to_datetime(df['Date'])\n",
    "\n",
    "# Sort the DataFrame by date\n",
    "df.sort_values('Date', inplace=True)\n",
    "\n",
    "# Select the 'Close' column as the target variable\n",
    "target_col = 'Close'\n",
    "\n",
    "# Define the sliding window size\n",
    "window_size = 30"
   ]
  },
  {
   "cell_type": "code",
   "execution_count": 21,
   "metadata": {},
   "outputs": [
    {
     "data": {
      "text/html": [
       "<div>\n",
       "<style scoped>\n",
       "    .dataframe tbody tr th:only-of-type {\n",
       "        vertical-align: middle;\n",
       "    }\n",
       "\n",
       "    .dataframe tbody tr th {\n",
       "        vertical-align: top;\n",
       "    }\n",
       "\n",
       "    .dataframe thead th {\n",
       "        text-align: right;\n",
       "    }\n",
       "</style>\n",
       "<table border=\"1\" class=\"dataframe\">\n",
       "  <thead>\n",
       "    <tr style=\"text-align: right;\">\n",
       "      <th></th>\n",
       "      <th>Date</th>\n",
       "      <th>Open</th>\n",
       "      <th>High</th>\n",
       "      <th>Low</th>\n",
       "      <th>Close</th>\n",
       "      <th>Adj Close</th>\n",
       "      <th>Volume</th>\n",
       "    </tr>\n",
       "  </thead>\n",
       "  <tbody>\n",
       "    <tr>\n",
       "      <th>0</th>\n",
       "      <td>2013-05-03</td>\n",
       "      <td>397.729919</td>\n",
       "      <td>404.119354</td>\n",
       "      <td>393.717957</td>\n",
       "      <td>0.004132</td>\n",
       "      <td>369.337555</td>\n",
       "      <td>5961256.0</td>\n",
       "    </tr>\n",
       "    <tr>\n",
       "      <th>1</th>\n",
       "      <td>2013-05-06</td>\n",
       "      <td>397.333679</td>\n",
       "      <td>408.601868</td>\n",
       "      <td>397.333679</td>\n",
       "      <td>0.008427</td>\n",
       "      <td>379.072693</td>\n",
       "      <td>4318845.0</td>\n",
       "    </tr>\n",
       "    <tr>\n",
       "      <th>2</th>\n",
       "      <td>2013-05-07</td>\n",
       "      <td>406.893066</td>\n",
       "      <td>414.025452</td>\n",
       "      <td>405.976746</td>\n",
       "      <td>0.009760</td>\n",
       "      <td>382.094757</td>\n",
       "      <td>7628531.0</td>\n",
       "    </tr>\n",
       "    <tr>\n",
       "      <th>3</th>\n",
       "      <td>2013-05-08</td>\n",
       "      <td>411.152679</td>\n",
       "      <td>412.539551</td>\n",
       "      <td>407.165466</td>\n",
       "      <td>0.010065</td>\n",
       "      <td>382.786896</td>\n",
       "      <td>5472648.0</td>\n",
       "    </tr>\n",
       "    <tr>\n",
       "      <th>4</th>\n",
       "      <td>2013-05-09</td>\n",
       "      <td>410.310669</td>\n",
       "      <td>411.920410</td>\n",
       "      <td>403.673584</td>\n",
       "      <td>0.007714</td>\n",
       "      <td>377.457886</td>\n",
       "      <td>3776240.0</td>\n",
       "    </tr>\n",
       "  </tbody>\n",
       "</table>\n",
       "</div>"
      ],
      "text/plain": [
       "        Date        Open        High         Low     Close   Adj Close   \n",
       "0 2013-05-03  397.729919  404.119354  393.717957  0.004132  369.337555  \\\n",
       "1 2013-05-06  397.333679  408.601868  397.333679  0.008427  379.072693   \n",
       "2 2013-05-07  406.893066  414.025452  405.976746  0.009760  382.094757   \n",
       "3 2013-05-08  411.152679  412.539551  407.165466  0.010065  382.786896   \n",
       "4 2013-05-09  410.310669  411.920410  403.673584  0.007714  377.457886   \n",
       "\n",
       "      Volume  \n",
       "0  5961256.0  \n",
       "1  4318845.0  \n",
       "2  7628531.0  \n",
       "3  5472648.0  \n",
       "4  3776240.0  "
      ]
     },
     "execution_count": 21,
     "metadata": {},
     "output_type": "execute_result"
    }
   ],
   "source": [
    "df.head()"
   ]
  },
  {
   "cell_type": "code",
   "execution_count": 22,
   "metadata": {},
   "outputs": [
    {
     "data": {
      "text/html": [
       "<div>\n",
       "<style scoped>\n",
       "    .dataframe tbody tr th:only-of-type {\n",
       "        vertical-align: middle;\n",
       "    }\n",
       "\n",
       "    .dataframe tbody tr th {\n",
       "        vertical-align: top;\n",
       "    }\n",
       "\n",
       "    .dataframe thead th {\n",
       "        text-align: right;\n",
       "    }\n",
       "</style>\n",
       "<table border=\"1\" class=\"dataframe\">\n",
       "  <thead>\n",
       "    <tr style=\"text-align: right;\">\n",
       "      <th></th>\n",
       "      <th>Date</th>\n",
       "      <th>Open</th>\n",
       "      <th>High</th>\n",
       "      <th>Low</th>\n",
       "      <th>Close</th>\n",
       "      <th>Adj Close</th>\n",
       "      <th>Volume</th>\n",
       "    </tr>\n",
       "  </thead>\n",
       "  <tbody>\n",
       "    <tr>\n",
       "      <th>2462</th>\n",
       "      <td>2023-04-25</td>\n",
       "      <td>2366.000000</td>\n",
       "      <td>2380.600098</td>\n",
       "      <td>2350.500000</td>\n",
       "      <td>0.817622</td>\n",
       "      <td>2376.050049</td>\n",
       "      <td>4262471.0</td>\n",
       "    </tr>\n",
       "    <tr>\n",
       "      <th>2463</th>\n",
       "      <td>2023-04-26</td>\n",
       "      <td>2379.000000</td>\n",
       "      <td>2386.100098</td>\n",
       "      <td>2354.050049</td>\n",
       "      <td>0.811890</td>\n",
       "      <td>2362.100098</td>\n",
       "      <td>3977129.0</td>\n",
       "    </tr>\n",
       "    <tr>\n",
       "      <th>2464</th>\n",
       "      <td>2023-04-27</td>\n",
       "      <td>2375.000000</td>\n",
       "      <td>2384.000000</td>\n",
       "      <td>2364.000000</td>\n",
       "      <td>0.818033</td>\n",
       "      <td>2377.050049</td>\n",
       "      <td>4230627.0</td>\n",
       "    </tr>\n",
       "    <tr>\n",
       "      <th>2465</th>\n",
       "      <td>2023-04-28</td>\n",
       "      <td>2382.000000</td>\n",
       "      <td>2423.899902</td>\n",
       "      <td>2381.750000</td>\n",
       "      <td>0.835889</td>\n",
       "      <td>2420.500000</td>\n",
       "      <td>7183342.0</td>\n",
       "    </tr>\n",
       "    <tr>\n",
       "      <th>2466</th>\n",
       "      <td>2023-05-02</td>\n",
       "      <td>2436.199951</td>\n",
       "      <td>2445.800049</td>\n",
       "      <td>2428.100098</td>\n",
       "      <td>0.844334</td>\n",
       "      <td>2441.050049</td>\n",
       "      <td>5988299.0</td>\n",
       "    </tr>\n",
       "  </tbody>\n",
       "</table>\n",
       "</div>"
      ],
      "text/plain": [
       "           Date         Open         High          Low     Close    Adj Close   \n",
       "2462 2023-04-25  2366.000000  2380.600098  2350.500000  0.817622  2376.050049  \\\n",
       "2463 2023-04-26  2379.000000  2386.100098  2354.050049  0.811890  2362.100098   \n",
       "2464 2023-04-27  2375.000000  2384.000000  2364.000000  0.818033  2377.050049   \n",
       "2465 2023-04-28  2382.000000  2423.899902  2381.750000  0.835889  2420.500000   \n",
       "2466 2023-05-02  2436.199951  2445.800049  2428.100098  0.844334  2441.050049   \n",
       "\n",
       "         Volume  \n",
       "2462  4262471.0  \n",
       "2463  3977129.0  \n",
       "2464  4230627.0  \n",
       "2465  7183342.0  \n",
       "2466  5988299.0  "
      ]
     },
     "execution_count": 22,
     "metadata": {},
     "output_type": "execute_result"
    }
   ],
   "source": [
    "df.tail()"
   ]
  },
  {
   "cell_type": "code",
   "execution_count": 5,
   "metadata": {
    "id": "Pa-U1c9UEz7O"
   },
   "outputs": [],
   "source": [
    "# Normalize the data using MinMaxScaler\n",
    "scaler = MinMaxScaler()\n",
    "df[[target_col]] = scaler.fit_transform(df[[target_col]])\n",
    "\n",
    "# Split the data into training and testing sets\n",
    "train_size = int(0.8 * len(df))\n",
    "train_df = df[:train_size].reset_index(drop=True)\n",
    "test_df = df[train_size:].reset_index(drop=True)\n",
    "\n",
    "# Create sliding windows of data for the training set\n",
    "train_X, train_y = [], []\n",
    "for i in range(window_size, len(train_df)):\n",
    "    train_X.append(train_df[target_col].iloc[i-window_size:i])\n",
    "    train_y.append(train_df[target_col].iloc[i])\n",
    "train_X, train_y = np.array(train_X), np.array(train_y)\n",
    "\n",
    "# Create sliding windows of data for the testing set\n",
    "test_X, test_y = [], []\n",
    "for i in range(window_size, len(test_df)):\n",
    "    test_X.append(test_df[target_col].iloc[i-window_size:i])\n",
    "    test_y.append(test_df[target_col].iloc[i])\n",
    "test_X, test_y = np.array(test_X), np.array(test_y)"
   ]
  },
  {
   "cell_type": "code",
   "execution_count": 6,
   "metadata": {
    "id": "VQttUIX9Ez4l"
   },
   "outputs": [],
   "source": [
    "# Reshape the data to fit the LSTM input shape\n",
    "train_X = np.reshape(train_X, (train_X.shape[0], train_X.shape[1], 1))\n",
    "test_X = np.reshape(test_X, (test_X.shape[0], test_X.shape[1], 1))"
   ]
  },
  {
   "cell_type": "code",
   "execution_count": 7,
   "metadata": {
    "id": "GCC_5Sq1Ez13"
   },
   "outputs": [],
   "source": [
    "from keras.models import Sequential\n",
    "from keras.layers import LSTM, Dense\n",
    "from keras.wrappers.scikit_learn import KerasRegressor\n",
    "from sklearn.model_selection import GridSearchCV\n",
    "from keras.optimizers import Adam"
   ]
  },
  {
   "cell_type": "code",
   "execution_count": 8,
   "metadata": {
    "id": "Abrnex_-Ezy7"
   },
   "outputs": [],
   "source": [
    "# Define a function to build the LSTM model\n",
    "def build_lstm(look_back=30, units=32, optimizer='adam'):\n",
    "    model = Sequential()\n",
    "    model.add(LSTM(units, input_shape=(look_back, 1)))\n",
    "    model.add(Dense(1))\n",
    "    model.compile(loss='mean_squared_error', optimizer=optimizer)\n",
    "    return model"
   ]
  },
  {
   "cell_type": "code",
   "execution_count": 9,
   "metadata": {
    "colab": {
     "base_uri": "https://localhost:8080/"
    },
    "id": "0H8FbgkcEzwZ",
    "outputId": "a457b12b-61d9-4b5a-e0c3-91dafd7f2a8d"
   },
   "outputs": [
    {
     "name": "stderr",
     "output_type": "stream",
     "text": [
      "/var/folders/6h/p8nwbyjj3sv4vz65r6gg_vdm0000gn/T/ipykernel_7342/2423348907.py:2: DeprecationWarning: KerasRegressor is deprecated, use Sci-Keras (https://github.com/adriangb/scikeras) instead. See https://www.adriangb.com/scikeras/stable/migration.html for help migrating.\n",
      "  regressor = KerasRegressor(build_fn=build_lstm, verbose=0)\n"
     ]
    }
   ],
   "source": [
    "# Create a KerasRegressor with the build_lstm function\n",
    "regressor = KerasRegressor(build_fn=build_lstm, verbose=0)\n",
    "\n",
    "# Define the hyperparameters to test using GridSearchCV\n",
    "params = {\n",
    "    'look_back': [30],\n",
    "    'units': [32, 64, 128],\n",
    "    'optimizer': ['adam', 'rmsprop'],\n",
    "    'batch_size': [16, 32, 64],\n",
    "    'epochs': [10, 20, 50]\n",
    "}"
   ]
  },
  {
   "cell_type": "code",
   "execution_count": 10,
   "metadata": {
    "id": "VycvJVE1EzrZ"
   },
   "outputs": [
    {
     "name": "stdout",
     "output_type": "stream",
     "text": [
      "Metal device set to: Apple M2\n"
     ]
    },
    {
     "name": "stderr",
     "output_type": "stream",
     "text": [
      "2023-05-08 00:50:37.807338: W tensorflow/tsl/platform/profile_utils/cpu_utils.cc:128] Failed to get CPU frequency: 0 Hz\n"
     ]
    },
    {
     "name": "stdout",
     "output_type": "stream",
     "text": [
      "{'batch_size': 16, 'epochs': 50, 'look_back': 30, 'optimizer': 'adam', 'units': 64}\n",
      "-9.199438682117034e-05\n"
     ]
    }
   ],
   "source": [
    "# Create a GridSearchCV object with the KerasRegressor and hyperparameters\n",
    "grid_search = GridSearchCV(estimator=regressor, param_grid=params, cv=5,error_score='raise')\n",
    "\n",
    "# Fit the GridSearchCV object to the training data\n",
    "grid_search.fit(train_X, train_y)\n",
    "\n",
    "# Print the best hyperparameters and score\n",
    "print(grid_search.best_params_)\n",
    "print(grid_search.best_score_)"
   ]
  },
  {
   "cell_type": "code",
   "execution_count": 11,
   "metadata": {
    "id": "y6cPJaGnEzor"
   },
   "outputs": [],
   "source": [
    "# Use the best hyperparameters to create the final model\n",
    "best_params = grid_search.best_params_\n",
    "model = build_lstm(look_back=best_params['look_back'], units=best_params['units'], optimizer=best_params['optimizer'])"
   ]
  },
  {
   "cell_type": "code",
   "execution_count": 12,
   "metadata": {
    "id": "xQAXMJzrEzmR"
   },
   "outputs": [
    {
     "name": "stdout",
     "output_type": "stream",
     "text": [
      "Epoch 1/50\n",
      "122/122 - 6s - loss: 0.0040 - val_loss: 0.0013 - 6s/epoch - 50ms/step\n",
      "Epoch 2/50\n",
      "122/122 - 1s - loss: 3.7430e-04 - val_loss: 9.8734e-04 - 980ms/epoch - 8ms/step\n",
      "Epoch 3/50\n",
      "122/122 - 1s - loss: 3.2274e-04 - val_loss: 0.0018 - 1s/epoch - 9ms/step\n",
      "Epoch 4/50\n",
      "122/122 - 1s - loss: 3.0739e-04 - val_loss: 0.0013 - 967ms/epoch - 8ms/step\n",
      "Epoch 5/50\n",
      "122/122 - 1s - loss: 2.9173e-04 - val_loss: 0.0010 - 1s/epoch - 11ms/step\n",
      "Epoch 6/50\n",
      "122/122 - 1s - loss: 2.6237e-04 - val_loss: 7.0257e-04 - 1s/epoch - 9ms/step\n",
      "Epoch 7/50\n",
      "122/122 - 1s - loss: 2.2449e-04 - val_loss: 9.0276e-04 - 1s/epoch - 9ms/step\n",
      "Epoch 8/50\n",
      "122/122 - 1s - loss: 2.2803e-04 - val_loss: 7.2859e-04 - 951ms/epoch - 8ms/step\n",
      "Epoch 9/50\n",
      "122/122 - 1s - loss: 2.2291e-04 - val_loss: 6.1936e-04 - 914ms/epoch - 7ms/step\n",
      "Epoch 10/50\n",
      "122/122 - 1s - loss: 2.1305e-04 - val_loss: 0.0015 - 1s/epoch - 8ms/step\n",
      "Epoch 11/50\n",
      "122/122 - 1s - loss: 2.1272e-04 - val_loss: 9.4941e-04 - 950ms/epoch - 8ms/step\n",
      "Epoch 12/50\n",
      "122/122 - 1s - loss: 2.0142e-04 - val_loss: 5.2990e-04 - 981ms/epoch - 8ms/step\n",
      "Epoch 13/50\n",
      "122/122 - 1s - loss: 1.9612e-04 - val_loss: 5.1798e-04 - 952ms/epoch - 8ms/step\n",
      "Epoch 14/50\n",
      "122/122 - 1s - loss: 1.7923e-04 - val_loss: 4.8732e-04 - 1s/epoch - 9ms/step\n",
      "Epoch 15/50\n",
      "122/122 - 1s - loss: 1.6683e-04 - val_loss: 5.5033e-04 - 1s/epoch - 8ms/step\n",
      "Epoch 16/50\n",
      "122/122 - 1s - loss: 1.5708e-04 - val_loss: 9.2852e-04 - 1s/epoch - 9ms/step\n",
      "Epoch 17/50\n",
      "122/122 - 1s - loss: 1.7089e-04 - val_loss: 6.6190e-04 - 1s/epoch - 9ms/step\n",
      "Epoch 18/50\n",
      "122/122 - 1s - loss: 1.6107e-04 - val_loss: 4.2054e-04 - 955ms/epoch - 8ms/step\n",
      "Epoch 19/50\n",
      "122/122 - 1s - loss: 1.4654e-04 - val_loss: 3.9963e-04 - 921ms/epoch - 8ms/step\n",
      "Epoch 20/50\n",
      "122/122 - 1s - loss: 1.3717e-04 - val_loss: 5.3988e-04 - 1s/epoch - 8ms/step\n",
      "Epoch 21/50\n",
      "122/122 - 1s - loss: 1.3917e-04 - val_loss: 5.5176e-04 - 950ms/epoch - 8ms/step\n",
      "Epoch 22/50\n",
      "122/122 - 1s - loss: 1.3859e-04 - val_loss: 5.9560e-04 - 952ms/epoch - 8ms/step\n",
      "Epoch 23/50\n",
      "122/122 - 1s - loss: 1.4164e-04 - val_loss: 3.6509e-04 - 923ms/epoch - 8ms/step\n",
      "Epoch 24/50\n",
      "122/122 - 1s - loss: 1.2548e-04 - val_loss: 3.4504e-04 - 927ms/epoch - 8ms/step\n",
      "Epoch 25/50\n",
      "122/122 - 1s - loss: 1.2356e-04 - val_loss: 5.1655e-04 - 888ms/epoch - 7ms/step\n",
      "Epoch 26/50\n",
      "122/122 - 1s - loss: 1.1586e-04 - val_loss: 3.6173e-04 - 884ms/epoch - 7ms/step\n",
      "Epoch 27/50\n",
      "122/122 - 1s - loss: 1.3056e-04 - val_loss: 3.3355e-04 - 882ms/epoch - 7ms/step\n",
      "Epoch 28/50\n",
      "122/122 - 1s - loss: 1.1579e-04 - val_loss: 3.4585e-04 - 883ms/epoch - 7ms/step\n",
      "Epoch 29/50\n",
      "122/122 - 1s - loss: 1.1994e-04 - val_loss: 4.2290e-04 - 888ms/epoch - 7ms/step\n",
      "Epoch 30/50\n",
      "122/122 - 1s - loss: 1.1341e-04 - val_loss: 3.8235e-04 - 885ms/epoch - 7ms/step\n",
      "Epoch 31/50\n",
      "122/122 - 1s - loss: 1.0697e-04 - val_loss: 3.7682e-04 - 884ms/epoch - 7ms/step\n",
      "Epoch 32/50\n",
      "122/122 - 1s - loss: 1.1340e-04 - val_loss: 3.2007e-04 - 882ms/epoch - 7ms/step\n",
      "Epoch 33/50\n",
      "122/122 - 1s - loss: 1.2382e-04 - val_loss: 2.9433e-04 - 885ms/epoch - 7ms/step\n",
      "Epoch 34/50\n",
      "122/122 - 1s - loss: 1.0153e-04 - val_loss: 4.1503e-04 - 886ms/epoch - 7ms/step\n",
      "Epoch 35/50\n",
      "122/122 - 1s - loss: 1.0379e-04 - val_loss: 2.8285e-04 - 886ms/epoch - 7ms/step\n",
      "Epoch 36/50\n",
      "122/122 - 1s - loss: 9.8680e-05 - val_loss: 2.8411e-04 - 881ms/epoch - 7ms/step\n",
      "Epoch 37/50\n",
      "122/122 - 1s - loss: 9.4671e-05 - val_loss: 3.0899e-04 - 889ms/epoch - 7ms/step\n",
      "Epoch 38/50\n",
      "122/122 - 1s - loss: 9.9435e-05 - val_loss: 3.5639e-04 - 894ms/epoch - 7ms/step\n",
      "Epoch 39/50\n",
      "122/122 - 1s - loss: 9.2378e-05 - val_loss: 2.9016e-04 - 906ms/epoch - 7ms/step\n",
      "Epoch 40/50\n",
      "122/122 - 1s - loss: 9.8239e-05 - val_loss: 2.8146e-04 - 887ms/epoch - 7ms/step\n",
      "Epoch 41/50\n",
      "122/122 - 1s - loss: 9.2347e-05 - val_loss: 3.0653e-04 - 884ms/epoch - 7ms/step\n",
      "Epoch 42/50\n",
      "122/122 - 1s - loss: 1.0061e-04 - val_loss: 4.4565e-04 - 879ms/epoch - 7ms/step\n",
      "Epoch 43/50\n",
      "122/122 - 1s - loss: 1.0223e-04 - val_loss: 5.7426e-04 - 877ms/epoch - 7ms/step\n",
      "Epoch 44/50\n",
      "122/122 - 1s - loss: 1.0274e-04 - val_loss: 4.1616e-04 - 884ms/epoch - 7ms/step\n",
      "Epoch 45/50\n",
      "122/122 - 1s - loss: 8.9415e-05 - val_loss: 2.5398e-04 - 888ms/epoch - 7ms/step\n",
      "Epoch 46/50\n",
      "122/122 - 1s - loss: 8.6978e-05 - val_loss: 2.9006e-04 - 879ms/epoch - 7ms/step\n",
      "Epoch 47/50\n",
      "122/122 - 1s - loss: 8.9162e-05 - val_loss: 3.0633e-04 - 882ms/epoch - 7ms/step\n",
      "Epoch 48/50\n",
      "122/122 - 1s - loss: 8.6654e-05 - val_loss: 2.9617e-04 - 884ms/epoch - 7ms/step\n",
      "Epoch 49/50\n",
      "122/122 - 1s - loss: 8.8906e-05 - val_loss: 2.4617e-04 - 889ms/epoch - 7ms/step\n",
      "Epoch 50/50\n",
      "122/122 - 1s - loss: 8.3237e-05 - val_loss: 2.6568e-04 - 884ms/epoch - 7ms/step\n"
     ]
    }
   ],
   "source": [
    "# Train the model on the training data\n",
    "history = model.fit(train_X, train_y, epochs=best_params['epochs'], batch_size=best_params['batch_size'], verbose=2, validation_data=(test_X, test_y))"
   ]
  },
  {
   "cell_type": "code",
   "execution_count": 13,
   "metadata": {
    "id": "ByDkYTlnEzjw"
   },
   "outputs": [
    {
     "name": "stdout",
     "output_type": "stream",
     "text": [
      "15/15 [==============================] - 1s 26ms/step\n"
     ]
    },
    {
     "data": {
      "image/png": "[encoded data removed]",
      "text/plain": [
       "<Figure size 640x480 with 1 Axes>"
      ]
     },
     "metadata": {},
     "output_type": "display_data"
    }
   ],
   "source": [
    "import matplotlib.pyplot as plt\n",
    "\n",
    "# Make predictions on the testing data with the trained model\n",
    "y_pred = model.predict(test_X)\n",
    "\n",
    "# # Inverse transform the normalized data\n",
    "# y_pred = scaler.inverse_transform(y_pred)\n",
    "# # Reshape test_y to a 2D array\n",
    "# test_y_2d = np.reshape(test_y, (-1, 1))\n",
    "\n",
    "# # Inverse transform the normalized data\n",
    "# y_pred = scaler.inverse_transform(y_pred)\n",
    "# test_y = scaler.inverse_transform(test_y_2d)\n",
    "\n",
    "\n",
    "# Plot the actual and predicted values\n",
    "plt.plot(test_y, label='Actual')\n",
    "plt.plot(y_pred, label='Predicted')\n",
    "\n",
    "plt.xlabel('Time (days)')\n",
    "plt.ylabel('Stock Price ($)')\n",
    "plt.title('Actual vs Predicted Stock Prices')\n",
    "plt.legend()\n",
    "plt.show()"
   ]
  },
  {
   "cell_type": "code",
   "execution_count": 17,
   "metadata": {},
   "outputs": [
    {
     "name": "stdout",
     "output_type": "stream",
     "text": [
      "15/15 [==============================] - 0s 16ms/step - loss: 2.6568e-04\n",
      "Loss: 0.000266\n"
     ]
    }
   ],
   "source": [
    "loss = model.evaluate(test_X, test_y)\n",
    "\n",
    "# print the loss value\n",
    "print(\"Loss: {:.6f}\".format(loss))"
   ]
  },
  {
   "cell_type": "code",
   "execution_count": 20,
   "metadata": {},
   "outputs": [
    {
     "name": "stdout",
     "output_type": "stream",
     "text": [
      "MSE: 0.000265680945617299\n",
      "MAE: 0.01241120369819069\n",
      "R-squared: 0.9428151398882008\n",
      "RMSE: 0.01629972225583304\n"
     ]
    }
   ],
   "source": [
    "from sklearn.metrics import mean_squared_error, mean_absolute_error, r2_score\n",
    "\n",
    "# assuming y_true and y_pred are the true and predicted labels, respectively\n",
    "mse = mean_squared_error(test_y, y_pred)\n",
    "mae = mean_absolute_error(test_y, y_pred)\n",
    "r2 = r2_score(test_y, y_pred)\n",
    "\n",
    "print(\"MSE:\", mse)\n",
    "print(\"MAE:\", mae)\n",
    "print(\"R-squared:\", r2)\n",
    "rmse = np.sqrt(mse)\n",
    "print(\"RMSE:\", rmse)"
   ]
  }
 ],
 "metadata": {
  "colab": {
   "provenance": []
  },
  "kernelspec": {
   "display_name": "Python 3.10 (tensorflow)",
   "language": "python",
   "name": "tensorflow"
  },
  "language_info": {
   "codemirror_mode": {
    "name": "ipython",
    "version": 3
   },
   "file_extension": ".py",
   "mimetype": "text/x-python",
   "name": "python",
   "nbconvert_exporter": "python",
   "pygments_lexer": "ipython3",
   "version": "3.10.10"
  }
 },
 "nbformat": 4,
 "nbformat_minor": 1
}
